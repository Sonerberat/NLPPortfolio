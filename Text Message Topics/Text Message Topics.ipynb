{
 "cells": [
  {
   "cell_type": "markdown",
   "id": "fc062bec",
   "metadata": {},
   "source": [
    "# Text Message Topics in the  National University of Singapore SMS Corpus Data Set"
   ]
  },
  {
   "cell_type": "markdown",
   "id": "86f11467",
   "metadata": {},
   "source": [
    "My central questions regarding the National University of Singapore SMS Corpus data set are the following:\n",
    "1. Text message senders from which countries send the longest messages?\n",
    "2. What are some of the most common topics of text messages sent by people from Singapore, India, and the United States? How are they similar, and how are they different?\n",
    "3. How (if at all) did the common topics of text messages sent by people from Singapore change between 2003 and 2011?\n",
    "4. Is it possible to use text message data to predict what country a sender is from?"
   ]
  },
  {
   "cell_type": "markdown",
   "id": "4cb4bfdc",
   "metadata": {},
   "source": [
    "## Importing Needed Software Libraries\n"
   ]
  },
  {
   "cell_type": "markdown",
   "id": "c1408128",
   "metadata": {},
   "source": [
    "Several software libraries will be used to clean the data, normalize it, visualize it, and conduct TF-IDF analysis, word embedding analysis, and n-gram identification. The scikit-learn library will be used to form a Multinomial Naive Bayes supervised machine learning model of the data."
   ]
  },
  {
   "cell_type": "code",
   "execution_count": 1,
   "id": "7f6bf321",
   "metadata": {},
   "outputs": [],
   "source": [
    "# Import Pandas (to organize and clean the data):\n",
    "import pandas as pd"
   ]
  },
  {
   "cell_type": "code",
   "execution_count": 2,
   "id": "4d34fb68",
   "metadata": {},
   "outputs": [],
   "source": [
    "# Import visualization libraries (to visualize the data):\n",
    "from matplotlib import pyplot as plt\n",
    "import seaborn as sns"
   ]
  },
  {
   "cell_type": "code",
   "execution_count": 3,
   "id": "fe1f41fa",
   "metadata": {},
   "outputs": [],
   "source": [
    "# Import regex operations library (to normalize the data):\n",
    "import re\n",
    "\n",
    "# Import machine learning library for word embedding (to analyze the data):\n",
    "import gensim\n",
    "from gensim.models import Phrases\n",
    "\n",
    "# Import Counter class of collection containers library (to analyze the data):\n",
    "from collections import Counter\n",
    "\n",
    "# Import classes and methods for text tokenizing, lemmatization, stopwords removal, and n-gram evaluation:\n",
    "from nltk.util import ngrams\n",
    "from nltk.tokenize import word_tokenize\n",
    "from nltk.corpus import stopwords, wordnet\n",
    "from nltk.stem import WordNetLemmatizer\n",
    "\n",
    "# Import classes and methods for bag-of-words model building, TF-IDF text analysis, and Multinomial Naive Bayes \n",
    "# model building:\n",
    "from sklearn.model_selection import train_test_split\n",
    "from sklearn.feature_extraction.text import CountVectorizer, TfidfVectorizer\n",
    "from sklearn.naive_bayes import MultinomialNB\n",
    "\n",
    "# Import model performance-measuring methods:\n",
    "from sklearn.metrics import accuracy_score, classification_report"
   ]
  },
  {
   "cell_type": "markdown",
   "id": "bded98b2",
   "metadata": {},
   "source": [
    "## Reading in the Data and Cleaning It"
   ]
  },
  {
   "cell_type": "markdown",
   "id": "bf840106",
   "metadata": {},
   "source": [
    "The data set must be read into Python before any analysis can be done. I will read it into a Pandas DataFrame, because this data organization structure is easy to work with and very flexible in terms of the data structures it permits."
   ]
  },
  {
   "cell_type": "code",
   "execution_count": 4,
   "id": "66aed95e",
   "metadata": {},
   "outputs": [
    {
     "name": "stdout",
     "output_type": "stream",
     "text": [
      "<class 'pandas.core.frame.DataFrame'>\n",
      "RangeIndex: 48598 entries, 0 to 48597\n",
      "Data columns (total 6 columns):\n",
      " #   Column      Non-Null Count  Dtype \n",
      "---  ------      --------------  ----- \n",
      " 0   Unnamed: 0  48598 non-null  int64 \n",
      " 1   id          48598 non-null  int64 \n",
      " 2   Message     48595 non-null  object\n",
      " 3   length      48598 non-null  object\n",
      " 4   country     48598 non-null  object\n",
      " 5   Date        48598 non-null  object\n",
      "dtypes: int64(2), object(4)\n",
      "memory usage: 2.2+ MB\n",
      "None\n"
     ]
    }
   ],
   "source": [
    "# Read the .csv data file into a Pandas DataFrame:\n",
    "sms_text_data = pd.read_csv('clean_nus_sms.csv')\n",
    "\n",
    "# Print out basic DataFrame information:\n",
    "print(sms_text_data.info())"
   ]
  },
  {
   "cell_type": "markdown",
   "id": "5f3319d6",
   "metadata": {},
   "source": [
    "Eliminate null values and to remove the unneeded column \"Unnamed: 0.\""
   ]
  },
  {
   "cell_type": "code",
   "execution_count": 5,
   "id": "84dd9276",
   "metadata": {},
   "outputs": [],
   "source": [
    "#Some of the records have a null value in the Message column. Since my goal is to investigate the contents of the\n",
    "# text messages themselves, these records are useless. Drop them from the DataFrame:\n",
    "sms_text_data = sms_text_data.dropna(subset=['Message'])\n",
    "\n",
    "# The first column appears to be a running index designed to match the index of a row in a Pandas DataFrame. \n",
    "# This column is redundant, so I drop it from the DataFrame:\n",
    "sms_text_data.drop(['Unnamed: 0'], axis = 1, inplace = True)"
   ]
  },
  {
   "cell_type": "code",
   "execution_count": 6,
   "id": "7c804e97",
   "metadata": {},
   "outputs": [
    {
     "name": "stdout",
     "output_type": "stream",
     "text": [
      "<class 'pandas.core.frame.DataFrame'>\n",
      "Int64Index: 48591 entries, 0 to 48597\n",
      "Data columns (total 7 columns):\n",
      " #   Column   Non-Null Count  Dtype \n",
      "---  ------   --------------  ----- \n",
      " 0   id       48591 non-null  int64 \n",
      " 1   Message  48591 non-null  object\n",
      " 2   length   48591 non-null  int64 \n",
      " 3   country  48591 non-null  object\n",
      " 4   Date     48591 non-null  object\n",
      " 5   year     48591 non-null  object\n",
      " 6   month    48591 non-null  object\n",
      "dtypes: int64(2), object(5)\n",
      "memory usage: 3.0+ MB\n",
      "None\n"
     ]
    }
   ],
   "source": [
    "# Four text messages have an error message instead of a length. Conveniently, the Message text of these messages\n",
    "# is the identical error message. Remove these four messages from the DataFrame:\n",
    "\n",
    "sms_text_data = sms_text_data[sms_text_data.length != 'Err:511']\n",
    "sms_text_data = sms_text_data[sms_text_data.length != 'Err:510']\n",
    "sms_text_data = sms_text_data[sms_text_data.length != 'Err:509']\n",
    "sms_text_data = sms_text_data[sms_text_data.length != 'Err:508']\n",
    "\n",
    "# Convert the length column from type object to type integer:\n",
    "sms_text_data.length = pd.to_numeric(sms_text_data.length)\n",
    "\n",
    "# Split the Date column into a year column and a month column. Add these to the existing DataFrame.\n",
    "# Since I will not be doing any calculations with either of these columns, I will keep them as type\n",
    "# object rather than convert them to type integer.\n",
    "sms_text_data['year'] = sms_text_data.Date.str[0:4]\n",
    "sms_text_data['month'] = sms_text_data.Date.str[5:]\n",
    "\n",
    "# Print out DataFrame information again, to make sure nothing blatantly obvious has gone wrong:\n",
    "print(sms_text_data.info())"
   ]
  },
  {
   "cell_type": "markdown",
   "id": "bc91b7f9",
   "metadata": {},
   "source": [
    "## Exploratory Data Analysis"
   ]
  },
  {
   "cell_type": "markdown",
   "id": "ca09e5f2",
   "metadata": {},
   "source": [
    "1. What countries are the text message senders from?\n",
    "2. How many messages were sent by senders from each country?\n",
    "3. How many text messages, regardless of sender country, were sent each year?\n",
    "These questions can be answered with some basic exploratory data analysis, so I conduct such analysis here"
   ]
  },
  {
   "cell_type": "code",
   "execution_count": 7,
   "id": "d498e9db",
   "metadata": {},
   "outputs": [
    {
     "name": "stdout",
     "output_type": "stream",
     "text": [
      "['SG' 'MY' 'India' 'Pakistan' 'United States' 'Canada' 'unknown' 'Serbia'\n",
      " 'United Kingdom' 'France' 'Singapore' 'China' 'Malaysia' 'Sri Lanka'\n",
      " 'Spain' 'Bangladesh' 'Philippines' 'Macedonia' 'Romania' 'Kenya'\n",
      " 'Slovenia' 'New Zealand' 'Nigeria' 'Ghana' 'Indonesia' 'Nepal' 'Morocco'\n",
      " 'USA' 'Lebanon' 'india' 'Trinidad and Tobago' 'INDIA' 'srilanka'\n",
      " 'jamaica' 'Hungary' 'Australia' 'Italia' 'BARBADOS' 'Turkey' 'UK']\n"
     ]
    }
   ],
   "source": [
    "# What countries are represented in the data?\n",
    "print(sms_text_data.country.unique())"
   ]
  },
  {
   "cell_type": "markdown",
   "id": "d50bd56c",
   "metadata": {},
   "source": [
    "## Changing the names of countries in a more \"readable\" way"
   ]
  },
  {
   "cell_type": "code",
   "execution_count": 8,
   "id": "75b98d25",
   "metadata": {},
   "outputs": [
    {
     "name": "stdout",
     "output_type": "stream",
     "text": [
      "['Singapore' 'Malaysia' 'India' 'Pakistan' 'United States' 'Canada'\n",
      " 'unknown' 'Serbia' 'United Kingdom' 'France' 'China' 'Sri Lanka' 'Spain'\n",
      " 'Bangladesh' 'Philippines' 'Macedonia' 'Romania' 'Kenya' 'Slovenia'\n",
      " 'New Zealand' 'Nigeria' 'Ghana' 'Indonesia' 'Nepal' 'Morocco' 'Lebanon'\n",
      " 'Trinidad and Tobago' 'Jamaica' 'Hungary' 'Australia' 'Italy' 'Barbados'\n",
      " 'Turkey']\n"
     ]
    }
   ],
   "source": [
    "sms_text_data.replace('SG','Singapore', regex = False, inplace = True)\n",
    "sms_text_data.replace('MY','Malaysia', regex = False, inplace = True)\n",
    "sms_text_data.replace(\"srilanka\", \"Sri Lanka\", regex = False, inplace = True)\n",
    "sms_text_data.replace(\"UK\", \"United Kingdom\", regex = False, inplace = True)\n",
    "sms_text_data.replace(\"USA\", \"United States\", regex = False, inplace = True)\n",
    "sms_text_data.replace(\"INDIA\", \"India\", regex = False, inplace = True)\n",
    "sms_text_data.replace(\"india\", \"India\", regex = False, inplace = True)\n",
    "sms_text_data.replace(\"BARBADOS\", \"Barbados\", regex = False, inplace = True)\n",
    "sms_text_data.replace(\"Italia\", \"Italy\", regex = False, inplace = True)\n",
    "sms_text_data.replace(\"jamaica\", \"Jamaica\", regex = False, inplace = True)\n",
    "\n",
    "# Print out the unique values in the country column again, to make sure I didn't miss any unconventional spellings \n",
    "# and/or make some other blatantly obvious error:\n",
    "print(sms_text_data.country.unique())"
   ]
  },
  {
   "cell_type": "markdown",
   "id": "b4295f09",
   "metadata": {},
   "source": [
    "## How many messages were sent by senders from each country?"
   ]
  },
  {
   "cell_type": "code",
   "execution_count": 9,
   "id": "b17f679c",
   "metadata": {},
   "outputs": [
    {
     "data": {
      "image/png": "[encoded data removed]",
      "text/plain": [
       "<Figure size 1800x800 with 1 Axes>"
      ]
     },
     "metadata": {},
     "output_type": "display_data"
    }
   ],
   "source": [
    "# Make a bar plot of Messages sent per country using Seaborn's countplot() method. I choose to plot the bars in the \n",
    "# order in which they appear in the data rather than order them by decreasing counts.\n",
    "\n",
    "# Set the figure size:\n",
    "plt.figure(figsize=(18,8))\n",
    "# Set the context for the notebook (for font scale primarily):\n",
    "sns.set_context(\"notebook\", font_scale=0.85, rc={\"lines.linewidth\": 1.5})\n",
    "# Generate the bar plot, and make each bar the same colour:\n",
    "sns.countplot(data = sms_text_data, x=\"country\", color = 'red')\n",
    "# Make the x-axis tick marks easier to read, and make sure the axis labels are informative and readable:\n",
    "plt.xticks(rotation = 90)\n",
    "plt.xlabel(\"Country\", fontsize=14)\n",
    "plt.ylabel(\"Number per Country\", fontsize=14)\n",
    "plt.title(\"Number of Text Messages Sent Per Country\", fontsize=18)\n",
    "# Display the plot:\n",
    "plt.show()"
   ]
  },
  {
   "cell_type": "markdown",
   "id": "b59cd583",
   "metadata": {},
   "source": [
    "## How many text messages, regardless of sender country, were sent each year?"
   ]
  },
  {
   "cell_type": "code",
   "execution_count": 10,
   "id": "637e8989",
   "metadata": {},
   "outputs": [
    {
     "name": "stdout",
     "output_type": "stream",
     "text": [
      "['2003' '2010' '2011' '2012' '2013' '2014' '2015']\n"
     ]
    }
   ],
   "source": [
    "# What years were the text messages sent?\n",
    "print(sms_text_data.year.unique())"
   ]
  },
  {
   "cell_type": "code",
   "execution_count": 11,
   "id": "c877771b",
   "metadata": {},
   "outputs": [
    {
     "data": {
      "image/png": "[encoded data removed]",
      "text/plain": [
       "<Figure size 1000x600 with 1 Axes>"
      ]
     },
     "metadata": {},
     "output_type": "display_data"
    }
   ],
   "source": [
    "# Make a bar plot of Messages sent per year using Seaborn's countplot() method. I choose to plot the bars in the order\n",
    "# in which they appear in the data rather than order them by decreasing counts.\n",
    "\n",
    "# Set the figure size:\n",
    "plt.figure(figsize=(10,6))\n",
    "# Set the context for the notebook (for font scale primarily):\n",
    "sns.set_context(\"notebook\", font_scale=0.75, rc={\"lines.linewidth\": 1.5})\n",
    "# Generate the bar plot, and make each bar the same colour:\n",
    "sns.countplot(data = sms_text_data, x=\"year\", color = 'blue')\n",
    "# Make the x-axis labels easier to read, and make sure the axis labels are informative and readable:\n",
    "plt.xticks(rotation = 90)\n",
    "plt.xlabel(\"Year\", fontsize=14)\n",
    "plt.ylabel(\"Number per Year\", fontsize=14)\n",
    "plt.title(\"Number of Text Messages Sent Per Year\", fontsize=18)\n",
    "# Display the plot:\n",
    "plt.show()"
   ]
  },
  {
   "cell_type": "markdown",
   "id": "0921e3ec",
   "metadata": {},
   "source": [
    "# Text Pre-Processing"
   ]
  },
  {
   "cell_type": "code",
   "execution_count": 12,
   "id": "ce2225d1",
   "metadata": {},
   "outputs": [],
   "source": [
    "# Define a few noise removal functions to make noise removal on Messages in the DataFrame easier:\n",
    "\n",
    "# Replace punctuation marks and standard symbols with a single space:\n",
    "def remove_punctuation(text):\n",
    "    return re.sub(r',|\\.|\\:|;|-|/|&|!|\\?|\\(|\\)|\\+|@|<|>|#|~|=|\\$|\\*|[|]|{|}',' ',text)\n",
    "\n",
    "# Replace apostrophes with a single space:\n",
    "def replace_apostrophe(text):\n",
    "    return re.sub(r\"'\",' ',text)\n",
    "\n",
    "# Replace the special character ┾ with a single space:\n",
    "def replace_crossmark(text):\n",
    "    return re.sub(r\"┾\",' ',text)\n",
    "\n",
    "# Implementing some of the above functions may introduce multiple whitespaces ('  ' or '   ', etc.)\n",
    "# Replace any instances of multiple whitespaces with a single whitespace:\n",
    "def remove_xtra_whitespace(text):\n",
    "    return re.sub(r'\\s+', ' ', text)\n",
    "\n",
    "# The following code was written by the curriculum developers at Codecademy in their lesson on word lemmatization. \n",
    "# I have not changed any of the original code they wrote. The purpose of the code is to determine which part of \n",
    "# speech a word most probably belongs to -- noun, verb, adjective, adverb -- and to return that part of speech.\n",
    "# The result of that code is in turn handed off to a word lemmatizer, so it \"knows\" which part of speech a word\n",
    "# most likely belongs to.\n",
    "def get_part_of_speech(word):\n",
    "    probable_part_of_speech = wordnet.synsets(word)\n",
    "    pos_counts = Counter()\n",
    "    pos_counts[\"n\"] = len([item for item in probable_part_of_speech if item.pos()==\"n\"])\n",
    "    pos_counts[\"v\"] = len([item for item in probable_part_of_speech if item.pos()==\"v\"])\n",
    "    pos_counts[\"a\"] = len([item for item in probable_part_of_speech if item.pos()==\"a\"])\n",
    "    pos_counts[\"r\"] = len([item for item in probable_part_of_speech if item.pos()==\"r\"])\n",
    "    most_likely_part_of_speech = pos_counts.most_common(1)[0][0]\n",
    "    return most_likely_part_of_speech"
   ]
  },
  {
   "cell_type": "markdown",
   "id": "9ffd7a4d",
   "metadata": {},
   "source": [
    "#### Noise Removal "
   ]
  },
  {
   "cell_type": "code",
   "execution_count": 13,
   "id": "249326e7",
   "metadata": {},
   "outputs": [],
   "source": [
    "# Use some of the above functions to remove noise from the Messages, and to begin normalizing them:\n",
    "\n",
    "# The specific pattern of text  was observed in a number of text messages. Replace it with a single space:\n",
    "sms_text_data.Message = sms_text_data.Message.replace('', ' ', regex = False)\n",
    "\n",
    "# Remove apostrophes and punctuation/certain symbols from the Messages:\n",
    "sms_text_data.Message = sms_text_data.Message.apply(lambda x: replace_apostrophe(x))\n",
    "sms_text_data.Message = sms_text_data.Message.apply(lambda x: replace_crossmark(x))\n",
    "sms_text_data.Message = sms_text_data.Message.apply(lambda x: remove_punctuation(x))\n",
    "\n",
    "# Remove any extra whitespace inadvertantly added to the Messages:\n",
    "sms_text_data.Message = sms_text_data.Message.apply(lambda x: remove_xtra_whitespace(x))\n",
    "\n",
    "# Convert all characters to lowercase:\n",
    "sms_text_data.Message = sms_text_data.Message.apply(lambda x: x.lower())"
   ]
  },
  {
   "cell_type": "markdown",
   "id": "6118a71b",
   "metadata": {},
   "source": [
    "#### Tokenization"
   ]
  },
  {
   "cell_type": "code",
   "execution_count": 14,
   "id": "04285682",
   "metadata": {},
   "outputs": [],
   "source": [
    "# Break each text message up into individual words using the NLTK method word_tokenize:\n",
    "sms_text_data['Message_tokenized'] = sms_text_data.Message.apply(lambda text_message: word_tokenize(text_message))"
   ]
  },
  {
   "cell_type": "markdown",
   "id": "53d1e669",
   "metadata": {},
   "source": [
    "#### Stopword Removal"
   ]
  },
  {
   "cell_type": "code",
   "execution_count": 15,
   "id": "5e82e60e",
   "metadata": {},
   "outputs": [
    {
     "name": "stderr",
     "output_type": "stream",
     "text": [
      "[nltk_data] Downloading package stopwords to\n",
      "[nltk_data]     C:\\Users\\soner\\AppData\\Roaming\\nltk_data...\n",
      "[nltk_data]   Package stopwords is already up-to-date!\n"
     ]
    }
   ],
   "source": [
    "import nltk\n",
    "nltk.download('stopwords')\n",
    "# Load a set of common English stopwords for stopword removal:\n",
    "eng_stopwords = set(stopwords.words('english'))"
   ]
  },
  {
   "cell_type": "code",
   "execution_count": 16,
   "id": "95ac385f",
   "metadata": {},
   "outputs": [
    {
     "name": "stdout",
     "output_type": "stream",
     "text": [
      "0                              [bugis, oso, near, wat]\n",
      "1    [go, jurong, point, crazy, available, bugis, n...\n",
      "2                    [dunno, lets, go, learn, pilates]\n",
      "3    [den, weekdays, got, special, price, haiz, can...\n",
      "4                                    [meet, lunch, la]\n",
      "Name: Message_tokenized_nostop, dtype: object\n"
     ]
    }
   ],
   "source": [
    "# Remove stopwords from the text Messages.\n",
    "# In retrospect, this probably would have been easier to do if the tokenized messages were in a list rather than a\n",
    "# DataFrame column, but that is a lesson that I will carry into my next NLP project.\n",
    "\n",
    "# Make a new column in the DataFrame which contains, for now, empty lists:\n",
    "sms_text_data['Message_tokenized_nostop'] = [list() for i in range(len(sms_text_data['Message_tokenized']))]\n",
    "\n",
    "# Loop over each row of the DataFrame, gather up the tokenized text, and loop through each token to see whether \n",
    "# it is a stopword. If it is NOT a stopword, add it to the list in Message_tokenized_nostop for that particular \n",
    "# row; otherwise, leave the word out of said list:\n",
    "# Begin loop:\n",
    "for i in range(len(sms_text_data['Message_tokenized'])):\n",
    "    # Pluck off the list of tokens corresponding to this particular row:\n",
    "    thistext = sms_text_data.Message_tokenized.iloc[i]\n",
    "    # Loop over tokens in the current list of tokens:\n",
    "    for word in thistext:\n",
    "        # If the token in question is not in the list of English stopwords, add it to the list of tokens in\n",
    "        # Message_tokenized_nostop for this particular row.\n",
    "        if not word in eng_stopwords:\n",
    "            sms_text_data.Message_tokenized_nostop.iloc[i].append(word)\n",
    "\n",
    "# Print out the header for the new column Message_tokenized_nostop to make sure that nothing blatantly obvious has gone\n",
    "# wrong (with the first 5 records at least):\n",
    "print(sms_text_data.Message_tokenized_nostop.head())"
   ]
  },
  {
   "cell_type": "markdown",
   "id": "68c7d53e",
   "metadata": {},
   "source": [
    "#### Word Lemmatization"
   ]
  },
  {
   "cell_type": "code",
   "execution_count": 17,
   "id": "a2b3b2ec",
   "metadata": {},
   "outputs": [],
   "source": [
    "# Instantiate an object of the WordNetLemmatizer() class:\n",
    "lemmatizer = WordNetLemmatizer()"
   ]
  },
  {
   "cell_type": "code",
   "execution_count": 18,
   "id": "914ef4a6",
   "metadata": {},
   "outputs": [
    {
     "name": "stderr",
     "output_type": "stream",
     "text": [
      "[nltk_data] Downloading package omw-1.4 to\n",
      "[nltk_data]     C:\\Users\\soner\\AppData\\Roaming\\nltk_data...\n",
      "[nltk_data]   Package omw-1.4 is already up-to-date!\n"
     ]
    },
    {
     "name": "stdout",
     "output_type": "stream",
     "text": [
      "0                              [bugis, oso, near, wat]\n",
      "1    [go, jurong, point, crazy, available, bugis, n...\n",
      "2                      [dunno, let, go, learn, pilate]\n",
      "3    [den, weekday, get, special, price, haiz, cant...\n",
      "4                                    [meet, lunch, la]\n",
      "Name: Msg_token_nostop_lemmmed, dtype: object\n"
     ]
    }
   ],
   "source": [
    "import nltk\n",
    "nltk.download('omw-1.4')\n",
    "# Lemmatize the remaining words in the text messages.\n",
    "# In retrospect, this also probably would have been easier to do if the tokenized messages with stopwords removed were\n",
    "# in a list rather than a DataFrame column, but that is another lesson that I will carry into my next NLP project.\n",
    "\n",
    "# Make a new column in the DataFrame which contains, for now, empty lists:\n",
    "sms_text_data['Msg_token_nostop_lemmmed'] = [list() for i in range(len(sms_text_data['Message_tokenized_nostop']))]\n",
    "\n",
    "# Loop over each row, gather up the tokenized text, go through the tokenized text word by word to lemmatize it (after\n",
    "# determining which part of speech the word most probably belongs to), and add the lemmatized word to the list in\n",
    "# Msg_token_nostop_lemmed for that particular row:\n",
    "# Begin loop:\n",
    "for i in range(len(sms_text_data['Message_tokenized_nostop'])):\n",
    "    # Pluck off the list of tokens corresponding to this particular row:\n",
    "    thistext = sms_text_data.Message_tokenized_nostop.iloc[i]\n",
    "    # Loop over tokens in the current list of tokens: \n",
    "    for word in thistext:\n",
    "        # Lemmatize the token after first determining its likely part of speech:\n",
    "        lemmatized = lemmatizer.lemmatize(word, get_part_of_speech(word))\n",
    "        # Add the lemmatized token to the list of tokens in Msg_token_nostop_lemmed for this particular row:\n",
    "        sms_text_data.Msg_token_nostop_lemmmed.iloc[i].append(lemmatized)\n",
    "\n",
    "# Print out the header for the new column Msg_token_nostop_lemmmed to make sure that nothing blatantly obvious has gone\n",
    "# wrong (with the first 5 records at least):\n",
    "print(sms_text_data.Msg_token_nostop_lemmmed.head())"
   ]
  },
  {
   "cell_type": "markdown",
   "id": "2273b708",
   "metadata": {},
   "source": [
    "### Average Text Lengths Per Country"
   ]
  },
  {
   "cell_type": "code",
   "execution_count": 19,
   "id": "43104434",
   "metadata": {},
   "outputs": [
    {
     "name": "stdout",
     "output_type": "stream",
     "text": [
      "      country      length\n",
      "3      Canada  103.782828\n",
      "27  Sri Lanka   94.493792\n",
      "14  Macedonia   92.200000\n",
      "6       Ghana   73.500000\n",
      "24  Singapore   55.996134\n"
     ]
    }
   ],
   "source": [
    "# Group records by country and calculate the average length of Messages:\n",
    "avg_text_lengths = sms_text_data.groupby(['country']).length.mean().reset_index()\n",
    "\n",
    "# Sort the DataFrame by average length of Messages:\n",
    "avg_text_lengths.sort_values(by=['length'], ascending = False, inplace = True)\n",
    "\n",
    "# Print out the names of the five countries with the biggest average length of Messages:\n",
    "print(avg_text_lengths.nlargest(5,'length'))"
   ]
  },
  {
   "cell_type": "markdown",
   "id": "b00a1b6e",
   "metadata": {},
   "source": [
    "### Important Words in Messages: TF and TF-IDF Analysis"
   ]
  },
  {
   "cell_type": "markdown",
   "id": "d45b5363",
   "metadata": {},
   "source": [
    "What are some of the most common topics of text messages sent by people from Singapore, India, and the United States? How are they similar, and how are they different?\" and \"How (if at all) did the common topics of text messages sent by people from Singapore change between 2003 and 2011?\" I will be exploring three main avenues of addressing these questions. I will begin by seeing what I can learn by conducting term frequency (TF) and term frequency-inverse document frequency (TF-IDF) analysis on text messages from users from Singapore, India, and the United States. \"Term frequency\" simply refers to how often a term/word appears in a corpus of documents"
   ]
  },
  {
   "cell_type": "markdown",
   "id": "aed617ff",
   "metadata": {},
   "source": [
    "#### Texts from people from Singapore:"
   ]
  },
  {
   "cell_type": "code",
   "execution_count": 20,
   "id": "b79682e4",
   "metadata": {},
   "outputs": [],
   "source": [
    "# Separate out text messages from users from Singapore, India, and the United States into separate DataFrames for\n",
    "# easier analysis:\n",
    "sg_sms_text_data = sms_text_data[sms_text_data.country == 'Singapore']\n",
    "in_sms_text_data = sms_text_data[sms_text_data.country == 'India']\n",
    "us_sms_text_data = sms_text_data[sms_text_data.country == 'United States']"
   ]
  },
  {
   "cell_type": "markdown",
   "id": "697ed86c",
   "metadata": {},
   "source": [
    "#### Texts from people from Singapore:"
   ]
  },
  {
   "cell_type": "code",
   "execution_count": 21,
   "id": "4d0c420f",
   "metadata": {},
   "outputs": [
    {
     "name": "stdout",
     "output_type": "stream",
     "text": [
      "        word  count\n",
      "129        u   8283\n",
      "93      haha   6630\n",
      "4         go   4477\n",
      "16       get   3097\n",
      "2518     lol   2818\n",
      "247       ok   1813\n",
      "1454  hahaha   1752\n",
      "263     late   1707\n",
      "120     time   1631\n",
      "153     okay   1608\n",
      "1729      le   1458\n",
      "100    think   1448\n",
      "43      come   1371\n",
      "38      meet   1368\n",
      "64       one   1264\n"
     ]
    }
   ],
   "source": [
    "# Term-Frequency analysis:\n",
    "\n",
    "# Initialize an empty list:\n",
    "sg_corpus = []\n",
    "\n",
    "# Loop over records and, for each record, append each word of the associated message to the list sg_corpus. This\n",
    "# creates a list of all non-stopword, lemmatized words in all text messages sent by users from Singapore:\n",
    "# Begin loop:\n",
    "for i in range(len(sg_sms_text_data['Msg_token_nostop_lemmmed'])):\n",
    "    # Pluck off the list containing non-stopword, lemmatized words of the Message associated with this record:\n",
    "    thistext = sg_sms_text_data.Msg_token_nostop_lemmmed.iloc[i]\n",
    "    # Loop over tokens in the current list:\n",
    "    for word in thistext:\n",
    "        # Append the current token to the master list sg_corpus:\n",
    "        sg_corpus.append(word)\n",
    "\n",
    "# Instantiate a Counter class object from the iterable list sg_corpus:\n",
    "sg_count_of_words = Counter(sg_corpus)\n",
    "# Since objects of the Counter class are a subclass of dictionaries, convert the Counter object sg_count_of_words\n",
    "# to a Pandas DataFrame:\n",
    "sg_word_counts = pd.DataFrame.from_dict(sg_count_of_words, orient='index').reset_index()\n",
    "# Rename the columns of the DataFrame to be more interpretable by humans:\n",
    "sg_word_counts.rename(columns = {'index': 'word', 0: 'count'}, inplace = True)\n",
    "# Sort the DataFrame by the count column:\n",
    "sg_word_counts.sort_values(by=[\"count\"], ascending = False, inplace = True)\n",
    "# Print out the 15 most commonly used words:\n",
    "print(sg_word_counts.nlargest(15,'count'))\n",
    "\n",
    "# I realized after completing the project that simply using the Counter method most_common() would have been faster and\n",
    "# perhaps more efficient than what I did above. This is another lesson that I will be taking into my next NLP project."
   ]
  },
  {
   "cell_type": "code",
   "execution_count": 22,
   "id": "b69be672",
   "metadata": {},
   "outputs": [],
   "source": [
    "# Term Frequency-Inverse Document Frequency analysis:\n",
    "\n",
    "# Initialize an empty list:\n",
    "sing_corpus = []\n",
    "\n",
    "# Loop over records and, for each record, join the list of non-stopword, lemmatized words into one string, then append\n",
    "# that string to the list of text message strings to be stored in sing_corpus:\n",
    "\n",
    "# Begin loop:\n",
    "for i in range(len(sg_sms_text_data.Msg_token_nostop_lemmmed)):\n",
    "    # Pluck off the list containing non-stopword, lemmatized words of the Message associated with this record:\n",
    "    thislist = sg_sms_text_data.Msg_token_nostop_lemmmed.iloc[i]\n",
    "    # Join the tokens in the current list into one string, separating them by commas:\n",
    "    thisstring = ', '.join(thislist) \n",
    "    # Append the current string to the list sing_corpus:\n",
    "    sing_corpus.append(thisstring)\n",
    "\n",
    "# Instantiate a TfidVectorizer object, making sure that inverse document frequency will be calculated:\n",
    "sing_vectorizer = TfidfVectorizer(use_idf=True)\n",
    "# Fit the sing_vectorizer object to the corpus contained in sing_corpus:\n",
    "sing_tfidf_vectors = sing_vectorizer.fit_transform(sing_corpus)"
   ]
  },
  {
   "cell_type": "code",
   "execution_count": 25,
   "id": "f4432804",
   "metadata": {},
   "outputs": [
    {
     "name": "stdout",
     "output_type": "stream",
     "text": [
      "        word  count\n",
      "129        u   8283\n",
      "93      haha   6630\n",
      "4         go   4477\n",
      "16       get   3097\n",
      "2518     lol   2818\n",
      "247       ok   1813\n",
      "1454  hahaha   1752\n",
      "263     late   1707\n",
      "120     time   1631\n",
      "153     okay   1608\n",
      "1729      le   1458\n",
      "100    think   1448\n",
      "43      come   1371\n",
      "38      meet   1368\n",
      "64       one   1264\n"
     ]
    }
   ],
   "source": [
    "import warnings\n",
    "warnings.filterwarnings(\"ignore\")\n",
    "# Term-Frequency analysis:\n",
    "\n",
    "# Initialize an empty list:\n",
    "sg_corpus = []\n",
    "\n",
    "# Loop over records and, for each record, append each word of the associated message to the list sg_corpus. This\n",
    "# creates a list of all non-stopword, lemmatized words in all text messages sent by users from Singapore:\n",
    "# Begin loop:\n",
    "for i in range(len(sg_sms_text_data['Msg_token_nostop_lemmmed'])):\n",
    "    # Pluck off the list containing non-stopword, lemmatized words of the Message associated with this record:\n",
    "    thistext = sg_sms_text_data.Msg_token_nostop_lemmmed.iloc[i]\n",
    "    # Loop over tokens in the current list:\n",
    "    for word in thistext:\n",
    "        # Append the current token to the master list sg_corpus:\n",
    "        sg_corpus.append(word)\n",
    "\n",
    "# Instantiate a Counter class object from the iterable list sg_corpus:\n",
    "sg_count_of_words = Counter(sg_corpus)\n",
    "# Since objects of the Counter class are a subclass of dictionaries, convert the Counter object sg_count_of_words\n",
    "# to a Pandas DataFrame:\n",
    "sg_word_counts = pd.DataFrame.from_dict(sg_count_of_words, orient='index').reset_index()\n",
    "# Rename the columns of the DataFrame to be more interpretable by humans:\n",
    "sg_word_counts.rename(columns = {'index': 'word', 0: 'count'}, inplace = True)\n",
    "# Sort the DataFrame by the count column:\n",
    "sg_word_counts.sort_values(by=[\"count\"], ascending = False, inplace = True)\n",
    "# Print out the 15 most commonly used words:\n",
    "print(sg_word_counts.nlargest(15,'count'))\n",
    "\n",
    "# I realized after completing the project that simply using the Counter method most_common() would have been faster and\n",
    "# perhaps more efficient than what I did above. This is another lesson that I will be taking into my next NLP project."
   ]
  },
  {
   "cell_type": "markdown",
   "id": "052e7edf",
   "metadata": {},
   "source": [
    "#### Texts from people from India:"
   ]
  },
  {
   "cell_type": "code",
   "execution_count": 29,
   "id": "2f4814b2",
   "metadata": {},
   "outputs": [
    {
     "name": "stdout",
     "output_type": "stream",
     "text": [
      "     word  count\n",
      "48      u   1190\n",
      "0       k    403\n",
      "83   come    393\n",
      "578     2    338\n",
      "33     ur    323\n",
      "527  call    323\n",
      "214   get    302\n",
      "529    ok    301\n",
      "297    go    300\n",
      "194     r    293\n",
      "45    hey    247\n",
      "487    ``    239\n",
      "128     n    238\n",
      "397   day    237\n",
      "412  good    232\n"
     ]
    }
   ],
   "source": [
    "# Term-Frequency analysis:\n",
    "\n",
    "# Initialize an empty list:\n",
    "in_corpus = []\n",
    "\n",
    "# Loop over records and, for each record, append each word of the associated message to the list in_corpus. This\n",
    "# creates a list of all non-stopword, lemmatized words in all text messages sent by users from India:\n",
    "# Begin loop:\n",
    "for i in range(len(in_sms_text_data['Msg_token_nostop_lemmmed'])):\n",
    "    # Pluck off the list containing non-stopword, lemmatized words of the Message associated with this record:\n",
    "    thistext = in_sms_text_data.Msg_token_nostop_lemmmed.iloc[i]\n",
    "    # Loop over tokens in the current list:\n",
    "    for word in thistext:\n",
    "        # Append the current token to the master list in_corpus:\n",
    "        in_corpus.append(word)\n",
    "\n",
    "# Instantiate a Counter class object from the iterable list in_corpus:\n",
    "in_count_of_words = Counter(in_corpus)\n",
    "# Convert the Counter object in_count_of_words to a Pandas DataFrame:\n",
    "in_word_counts = pd.DataFrame.from_dict(in_count_of_words, orient='index').reset_index()\n",
    "# Rename the columns of the DataFrame to be more interpretable by humans:\n",
    "in_word_counts.rename(columns = {'index': 'word', 0: 'count'}, inplace = True)\n",
    "# Sort the DataFrame by the count column:\n",
    "in_word_counts.sort_values(by=[\"count\"], ascending = False, inplace = True)\n",
    "# Print out the 15 most commonly used words\n",
    "print(in_word_counts.nlargest(15,'count'))"
   ]
  },
  {
   "cell_type": "code",
   "execution_count": 30,
   "id": "eee9cb81",
   "metadata": {},
   "outputs": [
    {
     "name": "stdout",
     "output_type": "stream",
     "text": [
      "     word  count\n",
      "79   come    372\n",
      "511  call    302\n",
      "514    ok    289\n",
      "206   get    286\n",
      "284    go    283\n",
      "31     ur    248\n",
      "44    hey    247\n",
      "394  good    220\n",
      "136    da    204\n",
      "383   day    200\n",
      "602    hi    184\n",
      "76   send    170\n",
      "369  dear    160\n",
      "46   tell    158\n",
      "59     na    151\n"
     ]
    }
   ],
   "source": [
    "# Term Frequency-Inverse Document Frequency analysis:\n",
    "\n",
    "# Initialize an empty list:\n",
    "india_corpus = []\n",
    "\n",
    "# Loop over records and, for each record, join the list of non-stopword, lemmatized words into one string, then append\n",
    "# that string to the list of text message strings to be stored in india_corpus:\n",
    "# Begin loop:\n",
    "for i in range(len(in_sms_text_data.Msg_token_nostop_lemmmed)):\n",
    "    # Pluck off the list containing non-stopword, lemmatized words of the Message associated with this record:\n",
    "    thislist = in_sms_text_data.Msg_token_nostop_lemmmed.iloc[i]\n",
    "    # Join the tokens in the current list into one string, separating them by commas:\n",
    "    thisstring = ', '.join(thislist) \n",
    "    # Append the current string to the list india_corpus:\n",
    "    india_corpus.append(thisstring)\n",
    "\n",
    "# Instantiate a TfidVectorizer object, making sure that inverse document frequency will be calculated:    \n",
    "india_vectorizer = TfidfVectorizer(use_idf=True)\n",
    "# Fit the india_vectorizer object to the corpus contained in india_corpus:\n",
    "india_tfidf_vectors = india_vectorizer.fit_transform(india_corpus)\n",
    "\n",
    "# Begin loop over vectors:\n",
    "for i in range(len(in_sms_text_data.Msg_token_nostop_lemmmed)):\n",
    "    # Pluck off the tf-idf vector corresponding to the current record, i.e. text message:\n",
    "    tfidf_vector = india_tfidf_vectors[i]\n",
    "    # Place tf-idf values in a Pandas DataFrame, setting the indices of the DataFrame to the words found in the\n",
    "    # corpus of text messages:\n",
    "    tfidf_results = pd.DataFrame(tfidf_vector.T.todense(), index = india_vectorizer.get_feature_names(), \\\n",
    "                                 columns = [\"TF-IDF Score\"])\n",
    "    # Keep only those records in tfidf_results which have a non-zero tf-idf score:\n",
    "    nonzero_words = tfidf_results[tfidf_results['TF-IDF Score'] > 0.0]\n",
    "    # If this is the first vector, make the DataFrame of non-zero tf-idf words equal to the current DataFrame \n",
    "    # nonzero_words:\n",
    "    if i == 0:\n",
    "        india_top_tfidf_scores = nonzero_words\n",
    "    # Otherwise, append the current DataFrame nonzero_words to the already extant DataFrame india_top_tfidf_scores:    \n",
    "    else:\n",
    "        india_top_tfidf_scores = india_top_tfidf_scores.append(nonzero_words)\n",
    "\n",
    "# Convert the DataFrame india_top_tfidf_words to a list:\n",
    "india_top_tfidf_words = india_top_tfidf_scores.index[india_top_tfidf_scores['TF-IDF Score'] > 0.0].to_list()\n",
    "\n",
    "# Instantiate a Counter class from the iterable list india_top_tfidf_words:\n",
    "india_count_of_top_tfidf_words = Counter(india_top_tfidf_words)\n",
    "# Convert the Counter object india_count_of_top_ifidf_words to a Pandas DataFrame:\n",
    "india_top_tfidf_word_counts = pd.DataFrame.from_dict(india_count_of_top_tfidf_words, orient='index').reset_index()\n",
    "# Rename the columns of the DataFrame to be more interpretable by humans:\n",
    "india_top_tfidf_word_counts.rename(columns = {'index': 'word', 0: 'count'}, inplace = True)\n",
    "# Sort the DataFrame by the count column:\n",
    "india_top_tfidf_word_counts.sort_values(by=[\"count\"], ascending = False, inplace = True)\n",
    "# Print out the 15 most commonly occuring important words in text messages from users from India:\n",
    "print(india_top_tfidf_word_counts.nlargest(15,'count'))"
   ]
  },
  {
   "cell_type": "markdown",
   "id": "e4abb4b1",
   "metadata": {},
   "source": [
    "### Texts from people from the United States:"
   ]
  },
  {
   "cell_type": "code",
   "execution_count": 31,
   "id": "a9fa3e4e",
   "metadata": {},
   "outputs": [
    {
     "name": "stdout",
     "output_type": "stream",
     "text": [
      "       word  count\n",
      "84      get    602\n",
      "115    know    340\n",
      "418       u    336\n",
      "121      go    315\n",
      "5       lol    278\n",
      "54     like    262\n",
      "68   thanks    256\n",
      "222    want    252\n",
      "215    come    232\n",
      "66     yeah    207\n",
      "345    time    205\n",
      "685      hi    201\n",
      "188   think    192\n",
      "417     see    189\n",
      "407    love    182\n"
     ]
    }
   ],
   "source": [
    "# Term-Frequency analysis:\n",
    "\n",
    "# Initialize an empty list:\n",
    "us_corpus = []\n",
    "\n",
    "# Loop over records and, for each record, append each word of the associated message to the list us_corpus. This\n",
    "# creates a list of all non-stopword, lemmatized words in all texts messages sent by users from the United States:\n",
    "\n",
    "# Begin loop:\n",
    "for i in range(len(us_sms_text_data['Msg_token_nostop_lemmmed'])):\n",
    "    # Pluck off the list containing non-stopword, lemmatized words of the Message associated with this record:\n",
    "    thistext = us_sms_text_data.Msg_token_nostop_lemmmed.iloc[i]\n",
    "    # Loop over tokens in the current list:\n",
    "    for word in thistext:\n",
    "        # Append the current token to the master list us_corpus:\n",
    "        us_corpus.append(word)\n",
    "\n",
    "# Instantiate a Counter class object from the iterable list us_corpus:\n",
    "us_count_of_words = Counter(us_corpus)\n",
    "# Convert the Counter object us_count_of_words to a Pandas DataFrame:\n",
    "us_word_counts = pd.DataFrame.from_dict(us_count_of_words, orient='index').reset_index()\n",
    "# Rename the columns of the DataFrame to be more interpretable by humans:\n",
    "us_word_counts.rename(columns = {'index': 'word', 0: 'count'}, inplace = True)\n",
    "# Sort the DataFrame by the count column:\n",
    "us_word_counts.sort_values(by=[\"count\"], ascending = False, inplace = True)\n",
    "# Print out the 15 most commonly used words\n",
    "print(us_word_counts.nlargest(15,'count'))"
   ]
  },
  {
   "cell_type": "code",
   "execution_count": 32,
   "id": "e1c244be",
   "metadata": {},
   "outputs": [
    {
     "name": "stdout",
     "output_type": "stream",
     "text": [
      "       word  count\n",
      "81      get    562\n",
      "111    know    324\n",
      "118      go    298\n",
      "4       lol    271\n",
      "65   thanks    246\n",
      "52     like    243\n",
      "221    want    240\n",
      "208    come    225\n",
      "66     yeah    206\n",
      "667      hi    201\n",
      "347    time    192\n",
      "184   think    186\n",
      "407     see    185\n",
      "191      ok    173\n",
      "396    love    171\n"
     ]
    }
   ],
   "source": [
    "# Term Frequency-Inverse Document Frequency analysis:\n",
    "\n",
    "# Initialize an empty list:\n",
    "usa_corpus = []\n",
    "\n",
    "# Loop over records and, for each record, join the list of non-stopword, lemmatized words into one string, then append\n",
    "# that string to the list of text message strings to be stored in sing_corpus:\n",
    "# Begin loop:\n",
    "for i in range(len(us_sms_text_data.Msg_token_nostop_lemmmed)):\n",
    "    # Pluck off the list containing non-stopword, lemmatized words of the Message associated with this record:\n",
    "    thislist = us_sms_text_data.Msg_token_nostop_lemmmed.iloc[i]\n",
    "    # Join the tokens in the current list into one string, separating them by commas:\n",
    "    thisstring = ', '.join(thislist) \n",
    "    # Append the current string to the list usa_corpus:\n",
    "    usa_corpus.append(thisstring)\n",
    "\n",
    "# Instantiate a TfidVectorizer object, making sure that inverse document frequency will be calculated:\n",
    "usa_vectorizer = TfidfVectorizer(use_idf=True)\n",
    "# Fit the usa_vectorizer object to the corpus contained in usa_corpus:\n",
    "usa_tfidf_vectors = usa_vectorizer.fit_transform(usa_corpus)\n",
    "\n",
    "# Begin loop over vectors:\n",
    "for i in range(len(us_sms_text_data.Msg_token_nostop_lemmmed)):\n",
    "    # Pluck off the tf-idf vector corresponding to the current record, i.e. text message:\n",
    "    tfidf_vector = usa_tfidf_vectors[i]\n",
    "    # Place tf-idf values in a Pandas DataFrame, setting the indices of the DataFrame to the words found in the\n",
    "    # corpus of text messages:\n",
    "    tfidf_results = pd.DataFrame(tfidf_vector.T.todense(), index = usa_vectorizer.get_feature_names(), \\\n",
    "                                 columns = [\"TF-IDF Score\"])\n",
    "    # Keep only those records in tfidf_results which have a non-zero tf-idf score:\n",
    "    nonzero_words = tfidf_results[tfidf_results['TF-IDF Score'] > 0.0]\n",
    "    # If this is the first vector, make the DataFrame of non-zero tf-idf words equal to the current DataFrame \n",
    "    # nonzero_words:\n",
    "    if i == 0:\n",
    "        usa_top_tfidf_scores = nonzero_words\n",
    "    # Otherwise, append the current DataFrame nonzero_words to the already extant DataFrame usa_top_tfidf_scores:\n",
    "    else:\n",
    "        usa_top_tfidf_scores = usa_top_tfidf_scores.append(nonzero_words)\n",
    "\n",
    "# Convert the DataFrame usa_top_tfidf_words to a list:\n",
    "usa_top_tfidf_words = usa_top_tfidf_scores.index[usa_top_tfidf_scores['TF-IDF Score'] > 0.0].to_list()\n",
    "\n",
    "# Instantiate a Counter class from the iterable list usa_top_tfidf_words:\n",
    "usa_count_of_top_tfidf_words = Counter(usa_top_tfidf_words)\n",
    "# Convert the Counter object usa_count_of_top_ifidf_words to a Pandas DataFrame:\n",
    "usa_top_tfidf_word_counts = pd.DataFrame.from_dict(usa_count_of_top_tfidf_words, orient='index').reset_index()\n",
    "# Rename the columns of the DataFrame to be more interpretable by humans:\n",
    "usa_top_tfidf_word_counts.rename(columns = {'index': 'word', 0: 'count'}, inplace = True)\n",
    "# Sort the DataFrame by the count column:\n",
    "usa_top_tfidf_word_counts.sort_values(by=[\"count\"], ascending = False, inplace = True)\n",
    "# Print out the 15 most commonly occuring important words in text messages from users from the United States:\n",
    "print(usa_top_tfidf_word_counts.nlargest(15,'count'))"
   ]
  },
  {
   "cell_type": "markdown",
   "id": "390277fa",
   "metadata": {},
   "source": [
    "# Important Words in Messages: TF and TF-IDF Analysis Comparing and Contrasting Texts from Singapore Eight Years Apart"
   ]
  },
  {
   "cell_type": "markdown",
   "id": "63b95e5b",
   "metadata": {},
   "source": [
    "How (if at all) did the common topics of text messages sent by people from Singapore change between 2003 and 2011?\" I will again engage in TF and TF-IDF analysis as I attempt to answer this question. So in a sense, this analysis repeats what I have done above, except that now I am splitting the corpus of text messages from people from Singapore into two subsets based on the year the messages were sent"
   ]
  },
  {
   "cell_type": "code",
   "execution_count": 33,
   "id": "ef5363f5",
   "metadata": {},
   "outputs": [],
   "source": [
    "# Select texts sent by users from Singapore in 2011, and texts sent by users fron Singapore in 2003:\n",
    "sg_sms_text_data_2011 = sg_sms_text_data[sg_sms_text_data.year == '2011']\n",
    "sg_sms_text_data_2003 = sg_sms_text_data[sg_sms_text_data.year == '2003']"
   ]
  },
  {
   "cell_type": "markdown",
   "id": "dab90551",
   "metadata": {},
   "source": [
    "Texts Sent in 2003"
   ]
  },
  {
   "cell_type": "code",
   "execution_count": 34,
   "id": "77e4c2f9",
   "metadata": {},
   "outputs": [
    {
     "name": "stdout",
     "output_type": "stream",
     "text": [
      "     word  count\n",
      "129     u   3731\n",
      "4      go   1605\n",
      "16    get    969\n",
      "13      e    873\n",
      "41      ü    798\n",
      "210   lor    784\n",
      "225    ur    660\n",
      "247    ok    658\n",
      "190     2    642\n",
      "120  time    588\n",
      "38   meet    586\n",
      "66    wan    579\n",
      "263  late    568\n",
      "3     wat    536\n",
      "43   come    516\n"
     ]
    }
   ],
   "source": [
    "# Term-Frequency analysis:\n",
    "\n",
    "# Initialize an empty list:\n",
    "sg_corpus_2003 = []\n",
    "\n",
    "# Loop over records and, for each record, append each word of the associated message to the list sg_corpus_2003. This\n",
    "# creates a list of all non-stopword, lemmatized words in all text messages sent by users from Singapore in 2003:\n",
    "# Begin loop:\n",
    "for i in range(len(sg_sms_text_data_2003['Msg_token_nostop_lemmmed'])):\n",
    "    # Pluck off the list containing non-stopword, lemmatized words of the Message associated with this record:\n",
    "    thistext = sg_sms_text_data_2003.Msg_token_nostop_lemmmed.iloc[i]\n",
    "    # Loop over tokens in the current list:\n",
    "    for word in thistext:\n",
    "        # Append the current token to the master list sg_corpus_2003:\n",
    "        sg_corpus_2003.append(word)\n",
    "\n",
    "# Instantiate a Counter class object from the iterable list sg_corpus_2003:\n",
    "sg_count_of_words_2003 = Counter(sg_corpus_2003)\n",
    "# Convert the Counter object sg_count_of_words_2003 to a Pandas DataFrame:\n",
    "sg_word_counts_2003 = pd.DataFrame.from_dict(sg_count_of_words_2003, orient='index').reset_index()\n",
    "# Rename the columns of the DataFrame to be more interpretable by humans:\n",
    "sg_word_counts_2003.rename(columns = {'index': 'word', 0: 'count'}, inplace = True)\n",
    "# Sort the DataFrame by the count column:\n",
    "sg_word_counts_2003.sort_values(by=[\"count\"], ascending = False, inplace = True)\n",
    "# Print out the 15 most commonly used words\n",
    "print(sg_word_counts_2003.nlargest(15,'count'))"
   ]
  },
  {
   "cell_type": "code",
   "execution_count": 35,
   "id": "51ac93d6",
   "metadata": {},
   "outputs": [
    {
     "name": "stdout",
     "output_type": "stream",
     "text": [
      "     word  count\n",
      "10     go   1435\n",
      "9     get    891\n",
      "195   lor    717\n",
      "238    ok    628\n",
      "214    ur    607\n",
      "116  time    567\n",
      "36   meet    555\n",
      "80    wan    548\n",
      "251  late    546\n",
      "3     wat    517\n",
      "38   come    500\n",
      "53    hey    488\n",
      "89   haha    457\n",
      "153   dun    413\n",
      "74    one    374\n"
     ]
    }
   ],
   "source": [
    "# Term Frequency-Inverse Document Frequency analysis:\n",
    "\n",
    "# Initialize an empty list:\n",
    "sing_corpus_2003 = []\n",
    "\n",
    "# Loop over records and, for each record, join the list of non-stopword, lemmatized words into one string, then append\n",
    "# that string to the list of text message strings to be stored in sing_corpus_2003:\n",
    "# Begin loop:\n",
    "for i in range(len(sg_sms_text_data_2003.Msg_token_nostop_lemmmed)):\n",
    "    # Pluck off the list containing non-stopword, lemmatized words of the Message associated with this record:\n",
    "    thislist = sg_sms_text_data_2003.Msg_token_nostop_lemmmed.iloc[i]\n",
    "    # Join the tokens in the current list into one string, separating them by commas:\n",
    "    thisstring = ', '.join(thislist)\n",
    "    # Append the current string to the list sing_corpus_2003:\n",
    "    sing_corpus_2003.append(thisstring)\n",
    "\n",
    "# Instantiate a TfidVectorizer object, making sure that inverse document frequency will be calculated:    \n",
    "sing_vectorizer_2003 = TfidfVectorizer(use_idf=True)\n",
    "# Fit the sing_vectorizer_2003 object to the corpus contained in india_corpus:\n",
    "sing_tfidf_vectors_2003 = sing_vectorizer_2003.fit_transform(sing_corpus_2003)\n",
    "\n",
    "# Begin loop over vectors:\n",
    "for i in range(len(sg_sms_text_data_2003.Msg_token_nostop_lemmmed)):\n",
    "    # Pluck off the tf-idf vector corresponding to the current record, i.e. text message:\n",
    "    tfidf_vector = sing_tfidf_vectors_2003[i]\n",
    "    # Place tf-idf values in a Pandas DataFrame, setting the indices of the DataFrame to the words found in the\n",
    "    # corpus of text messages:\n",
    "    tfidf_results = pd.DataFrame(tfidf_vector.T.todense(), index = sing_vectorizer_2003.get_feature_names(), \\\n",
    "                                 columns = [\"TF-IDF Score\"])\n",
    "    # Keep only those records in tfidf_results which have a non-zero tf-idf score:\n",
    "    nonzero_words = tfidf_results[tfidf_results['TF-IDF Score'] > 0.0]\n",
    "    # If this is the first vector, make the DataFrame of non-zero tf-idf words equal to the current DataFrame \n",
    "    # nonzero_words:\n",
    "    if i == 0:\n",
    "        sing_top_tfidf_scores_2003 = nonzero_words\n",
    "    # Otherwise, append the current DataFrame nonzero_words to the already extant DataFrame sing_top_tfidf_scores_2003: \n",
    "    else:\n",
    "        sing_top_tfidf_scores_2003 = sing_top_tfidf_scores_2003.append(nonzero_words)\n",
    "\n",
    "# Convert the DataFrame sing_top_tfidf_scores_2003 to a list:\n",
    "sing_top_tfidf_words_2003 = sing_top_tfidf_scores_2003.index[sing_top_tfidf_scores_2003['TF-IDF Score'] > 0.0].to_list()\n",
    "\n",
    "# Instantiate a Counter class from the iterable list sing_top_tfidf_words_2003:\n",
    "sing_count_of_top_tfidf_words_2003 = Counter(sing_top_tfidf_words_2003)\n",
    "# Convert the Counter object sing_count_of_top_tfidf_words_2003 to a Pandas DataFrame:\n",
    "sing_top_tfidf_word_counts_2003 = pd.DataFrame.from_dict(sing_count_of_top_tfidf_words_2003, \\\n",
    "                                                         orient='index').reset_index()\n",
    "# Rename the columns of the DataFrame to be more interpretable by humans:\n",
    "sing_top_tfidf_word_counts_2003.rename(columns = {'index': 'word', 0: 'count'}, inplace = True)\n",
    "# Sort the DataFrame by the count column:\n",
    "sing_top_tfidf_word_counts_2003.sort_values(by=[\"count\"], ascending = False, inplace = True)\n",
    "# Print out the 15 most commonly occuring important words in text messages in 2003:\n",
    "print(sing_top_tfidf_word_counts_2003.nlargest(15,'count'))"
   ]
  },
  {
   "cell_type": "markdown",
   "id": "55c77e93",
   "metadata": {},
   "source": [
    "#### Text Messages Sent in 2011"
   ]
  },
  {
   "cell_type": "code",
   "execution_count": 36,
   "id": "3b6dcb47",
   "metadata": {},
   "outputs": [
    {
     "name": "stdout",
     "output_type": "stream",
     "text": [
      "        word  count\n",
      "35      haha   6153\n",
      "2          u   4546\n",
      "126       go   2872\n",
      "4306     lol   2807\n",
      "83       get   2127\n",
      "640   hahaha   1746\n",
      "1252    okay   1512\n",
      "219       le   1391\n",
      "141       ok   1155\n",
      "168     late   1139\n",
      "194    think   1127\n",
      "265     yeah   1046\n",
      "123     time   1042\n",
      "16        oh    963\n",
      "789       eh    938\n"
     ]
    }
   ],
   "source": [
    "# Term-Frequency analysis:\n",
    "\n",
    "# Initialize an empty list:\n",
    "sg_corpus_2011 = []\n",
    "\n",
    "# Loop over records and, for each record, append each word of the associated message to the list sg_corpus_2011. This\n",
    "# creates a list of all non-stopword, lemmatized words in all text messages sent by users from Singapore in 2011:\n",
    "# Begin loop:\n",
    "for i in range(len(sg_sms_text_data_2011['Msg_token_nostop_lemmmed'])):\n",
    "    # Pluck off the list containing non-stopword, lemmatized words of the Message associated with this record:\n",
    "    thistext = sg_sms_text_data_2011.Msg_token_nostop_lemmmed.iloc[i]\n",
    "    # Loop over tokens in the current list:\n",
    "    for word in thistext:\n",
    "        # Append the current token to the master list sg_corpus_2011:\n",
    "        sg_corpus_2011.append(word)\n",
    "\n",
    "# Instantiate a Counter class object from the iterable list sg_corpus_2011:\n",
    "sg_count_of_words_2011 = Counter(sg_corpus_2011)\n",
    "# Convert the Counter object sg_count_of_words_2011 to a Pandas DataFrame:\n",
    "sg_word_counts_2011 = pd.DataFrame.from_dict(sg_count_of_words_2011, orient='index').reset_index()\n",
    "# Rename the columns of the DataFrame to be more interpretable by humans:\n",
    "sg_word_counts_2011.rename(columns = {'index': 'word', 0: 'count'}, inplace = True)\n",
    "# Sort the DataFrame by the count column:\n",
    "sg_word_counts_2011.sort_values(by=[\"count\"], ascending = False, inplace = True)\n",
    "# Print out the 15 most commonly used words\n",
    "print(sg_word_counts_2011.nlargest(15,'count'))"
   ]
  },
  {
   "cell_type": "code",
   "execution_count": 38,
   "id": "96840691",
   "metadata": {},
   "outputs": [
    {
     "name": "stdout",
     "output_type": "stream",
     "text": [
      "        word  count\n",
      "30      haha   4265\n",
      "119       go   2601\n",
      "4278     lol   2400\n",
      "77       get   1969\n",
      "626   hahaha   1426\n",
      "1234    okay   1424\n",
      "211       le   1345\n",
      "136       ok   1117\n",
      "163     late   1100\n",
      "187    think   1079\n",
      "118     time   1004\n",
      "261     yeah    970\n",
      "770       eh    915\n",
      "20        oh    887\n",
      "197     come    820\n"
     ]
    }
   ],
   "source": [
    "# Term Frequency-Inverse Document Frequency analysis:\n",
    "\n",
    "# Initialize an empty list:\n",
    "sing_corpus_2011 = []\n",
    "\n",
    "# Loop over records and, for each record, join the list of non-stopword, lemmatized words into one string, then append\n",
    "# that string to the list of text message strings to be stored in sing_corpus_2011:\n",
    "# Begin loop:\n",
    "for i in range(len(sg_sms_text_data_2011.Msg_token_nostop_lemmmed)):\n",
    "    # Pluck off the list containing non-stopword, lemmatized words of the Message associated with this record:\n",
    "    thislist = sg_sms_text_data_2011.Msg_token_nostop_lemmmed.iloc[i]\n",
    "    # Join the tokens in the current list into one string, separating them by commas:\n",
    "    thisstring = ', '.join(thislist) \n",
    "    # Append the current string to the list sing_corpus_2011:\n",
    "    sing_corpus_2011.append(thisstring)\n",
    "\n",
    "# Instantiate a TfidVectorizer object, making sure that inverse document frequency will be calculated:    \n",
    "sing_vectorizer_2011 = TfidfVectorizer(use_idf=True)\n",
    "# Fit the sing_vectorizer_2003 object to the corpus contained in india_corpus:\n",
    "sing_tfidf_vectors_2011 = sing_vectorizer_2011.fit_transform(sing_corpus_2011)\n",
    "\n",
    "# Begin loop over vectors:\n",
    "for i in range(len(sg_sms_text_data_2011.Msg_token_nostop_lemmmed)):\n",
    "    # Pluck off the tf-idf vector corresponding to the current record, i.e. text message:\n",
    "    tfidf_vector = sing_tfidf_vectors_2011[i]\n",
    "    # Place tf-idf values in a Pandas DataFrame, setting the indices of the DataFrame to the words found in the\n",
    "    # corpus of text messages:\n",
    "    tfidf_results = pd.DataFrame(tfidf_vector.T.todense(), index = sing_vectorizer_2011.get_feature_names(), \\\n",
    "                                 columns = [\"TF-IDF Score\"])\n",
    "    # Keep only those records in tfidf_results which have a non-zero tf-idf score:\n",
    "    nonzero_words = tfidf_results[tfidf_results['TF-IDF Score'] > 0.0]\n",
    "    # If this is the first vector, make the DataFrame of non-zero tf-idf words equal to the current DataFrame \n",
    "    # nonzero_words:\n",
    "    if i == 0:\n",
    "        sing_top_tfidf_scores_2011 = nonzero_words\n",
    "    # Otherwise, append the current DataFrame nonzero_words to the already extant DataFrame \n",
    "    # sing_top_tfidf_scores_2011:     \n",
    "    else:\n",
    "        sing_top_tfidf_scores_2011 = sing_top_tfidf_scores_2011.append(nonzero_words)\n",
    "\n",
    "# Convert the DataFrame sing_top_tfidf_scores_2011 to a list:\n",
    "sing_top_tfidf_words_2011 = sing_top_tfidf_scores_2011.index[sing_top_tfidf_scores_2011['TF-IDF Score'] > 0.0].to_list()\n",
    "\n",
    "# Instantiate a Counter class from the iterable list sing_top_tfidf_words_2011:\n",
    "sing_count_of_top_tfidf_words_2011 = Counter(sing_top_tfidf_words_2011)\n",
    "# Convert the Counter object sing_count_of_top_tfidf_words_2011 to a Pandas DataFrame:\n",
    "sing_top_tfidf_word_counts_2011 = pd.DataFrame.from_dict(sing_count_of_top_tfidf_words_2011, \\\n",
    "                                                         orient='index').reset_index()\n",
    "# Rename the columns of the DataFrame to be more interpretable by humans:\n",
    "sing_top_tfidf_word_counts_2011.rename(columns = {'index': 'word', 0: 'count'}, inplace = True)\n",
    "# Sort the DataFrame by the count column:\n",
    "sing_top_tfidf_word_counts_2011.sort_values(by=[\"count\"], ascending = False, inplace = True)\n",
    "# Print out the 15 most commonly occuring important words in text messages in 2011:\n",
    "print(sing_top_tfidf_word_counts_2011.nlargest(15,'count'))"
   ]
  },
  {
   "cell_type": "markdown",
   "id": "02b89fd8",
   "metadata": {},
   "source": [
    "## Word Embedding Analysis Based on TF-IDF Analysis"
   ]
  },
  {
   "cell_type": "markdown",
   "id": "e9f48388",
   "metadata": {},
   "source": [
    "### Texts from people from Singapore:"
   ]
  },
  {
   "cell_type": "markdown",
   "id": "af0d400f",
   "metadata": {},
   "source": [
    "First, word embeddings must be determined:"
   ]
  },
  {
   "cell_type": "code",
   "execution_count": 39,
   "id": "3ace0843",
   "metadata": {},
   "outputs": [
    {
     "data": {
      "text/plain": [
       "(4848231, 7101180)"
      ]
     },
     "execution_count": 39,
     "metadata": {},
     "output_type": "execute_result"
    }
   ],
   "source": [
    "# Convert the DataFrame column Msg_token_nostop_lemmed, which contains lists of the lemmatized, tokenized text of every\n",
    "# Message sent by users from Singapore, to a list: \n",
    "sg_corpus = sg_sms_text_data.Msg_token_nostop_lemmmed.to_list()\n",
    "\n",
    "# Use Gensim's Word2Vec() class to build a word embeddings model based on the corpus of texts from users from \n",
    "# Singapore. I will be using a skipgrams model with a maximum distance between words of 5; the model will ignore \n",
    "# words with a frequency of less than 15. Hierarchical softmax will be used for model training.\n",
    "sg_w2v_model = gensim.models.Word2Vec(window=5, sg = 1, hs = 1, min_count=15, workers=2)\n",
    "# Build the model vocabulary:\n",
    "sg_w2v_model.build_vocab(sg_corpus, progress_per=10000)\n",
    "# Train the model on the corpus of Messages from users from Singapore. Since the model's vocabulary has already been\n",
    "# built, use it to determine the total number of \"sentences\" in the corpus:\n",
    "sg_w2v_model.train(sg_corpus, total_examples=sg_w2v_model.corpus_count, epochs=30, report_delay=1)"
   ]
  },
  {
   "cell_type": "markdown",
   "id": "438ba93d",
   "metadata": {},
   "source": [
    "Now that word embeddings have been determined, I will see which word-vectors have the smallest distances from word-vectors associated with particular \"most important\" words. First, I pick a word found in the \"most important\" words lists of text messages from people from Singapore, India, and the United States to compare word embeddings from the three countries. That word is \"come.\""
   ]
  },
  {
   "cell_type": "code",
   "execution_count": 40,
   "id": "26663643",
   "metadata": {},
   "outputs": [
    {
     "data": {
      "text/plain": [
       "[('go', 0.6692296266555786),\n",
       " ('back', 0.5328816175460815),\n",
       " ('call', 0.5311444997787476),\n",
       " ('daddy', 0.458766371011734),\n",
       " ('see', 0.4466968774795532),\n",
       " ('meet', 0.44178318977355957),\n",
       " ('sch', 0.4417588710784912),\n",
       " ('fetch', 0.43861842155456543),\n",
       " ('home', 0.4253336191177368),\n",
       " ('reach', 0.41983017325401306)]"
      ]
     },
     "execution_count": 40,
     "metadata": {},
     "output_type": "execute_result"
    }
   ],
   "source": [
    "# See what words' vectorizations have the smallest cosine distances from the word-vector associated with come:\n",
    "sg_w2v_model.wv.most_similar(\"come\", topn = 10)"
   ]
  },
  {
   "cell_type": "markdown",
   "id": "2f6e3904",
   "metadata": {},
   "source": [
    "I now investigate which words are most similar to some other words in the \"most important\" words list of text messages sent by from people Singapore:"
   ]
  },
  {
   "cell_type": "code",
   "execution_count": 41,
   "id": "5088e94d",
   "metadata": {},
   "outputs": [
    {
     "data": {
      "text/plain": [
       "[('hahaha', 0.8422537446022034),\n",
       " ('ooo', 0.7767936587333679),\n",
       " ('yeah', 0.7345921397209167),\n",
       " ('p', 0.7188850045204163),\n",
       " ('ohh', 0.6798596978187561),\n",
       " ('okay', 0.6711593866348267),\n",
       " ('omg', 0.6482591032981873),\n",
       " ('lol', 0.6004239320755005),\n",
       " ('icic', 0.5959677696228027),\n",
       " ('wow', 0.5760118961334229)]"
      ]
     },
     "execution_count": 41,
     "metadata": {},
     "output_type": "execute_result"
    }
   ],
   "source": [
    "# See what words' vectorizations have the smallest cosine distances from the word-vector associated with \"haha:\"\n",
    "sg_w2v_model.wv.most_similar(\"haha\", topn = 10)"
   ]
  },
  {
   "cell_type": "markdown",
   "id": "5da2ae8c",
   "metadata": {},
   "source": [
    "#### Texts from people from India:"
   ]
  },
  {
   "cell_type": "markdown",
   "id": "4b0a2871",
   "metadata": {},
   "source": [
    "First, word embeddings must be determined:"
   ]
  },
  {
   "cell_type": "code",
   "execution_count": 43,
   "id": "81c8d8f4",
   "metadata": {},
   "outputs": [
    {
     "data": {
      "text/plain": [
       "(528648, 1328340)"
      ]
     },
     "execution_count": 43,
     "metadata": {},
     "output_type": "execute_result"
    }
   ],
   "source": [
    "# Convert the DataFrame column Msg_token_nostop_lemmed, which contains lists of the lemmatized, tokenized text of every\n",
    "# Message sent by users from India, to a list: \n",
    "in_corpus = in_sms_text_data.Msg_token_nostop_lemmmed.to_list()\n",
    "\n",
    "# Build a skipgram-based Word2Vec embedding model using hierarchical softmax for training. Ignore words with frequencies\n",
    "# less than 20; take a maximum distance between words of 5:\n",
    "in_w2v_model = gensim.models.Word2Vec(window=5, sg = 1, hs = 1, min_count=20, workers=2)\n",
    "# Build the model vocabulary:\n",
    "in_w2v_model.build_vocab(in_corpus, progress_per=10000)\n",
    "# Train the model on the corpus of Messages from users from India:\n",
    "in_w2v_model.train(in_corpus, total_examples=in_w2v_model.corpus_count, epochs=30, report_delay=1)"
   ]
  },
  {
   "cell_type": "code",
   "execution_count": 44,
   "id": "0d83168e",
   "metadata": {},
   "outputs": [
    {
     "data": {
      "text/plain": [
       "[('pick', 0.4017711579799652),\n",
       " ('sorry', 0.396727979183197),\n",
       " ('wait', 0.3953036963939667),\n",
       " ('today', 0.3727642297744751),\n",
       " ('please', 0.36678996682167053),\n",
       " ('miss', 0.35305580496788025),\n",
       " ('thats', 0.34971970319747925),\n",
       " ('reach', 0.34681323170661926),\n",
       " ('cal', 0.34516024589538574),\n",
       " ('sir', 0.3437378704547882)]"
      ]
     },
     "execution_count": 44,
     "metadata": {},
     "output_type": "execute_result"
    }
   ],
   "source": [
    "# Investigate words that are found in similar contexts to common/important words in Messages from users from India.\n",
    "# First, see what words' vectorizations have the smallest cosine distances from the word-vector associated with \"call:\"\n",
    "in_w2v_model.wv.most_similar(\"call\", topn = 10)"
   ]
  },
  {
   "cell_type": "code",
   "execution_count": 45,
   "id": "2ba87840",
   "metadata": {},
   "outputs": [
    {
     "data": {
      "text/plain": [
       "[('hear', 0.4281298518180847),\n",
       " ('food', 0.4171256422996521),\n",
       " ('happy', 0.3702658414840698),\n",
       " ('keep', 0.3560090661048889),\n",
       " ('qatar', 0.3505229949951172),\n",
       " ('good', 0.3452882468700409),\n",
       " ('birthday', 0.34449484944343567),\n",
       " ('yesterday', 0.34250393509864807),\n",
       " ('look', 0.3417050242424011),\n",
       " ('worry', 0.34034982323646545)]"
      ]
     },
     "execution_count": 45,
     "metadata": {},
     "output_type": "execute_result"
    }
   ],
   "source": [
    "# See what words' vectorizations have the smallest cosine distances from the word-vector associated with \"dear:\"\n",
    "in_w2v_model.wv.most_similar(\"dear\", topn = 10)"
   ]
  },
  {
   "cell_type": "code",
   "execution_count": 46,
   "id": "15b336a9",
   "metadata": {},
   "outputs": [
    {
     "data": {
      "text/plain": [
       "[('way2sms', 0.4311307668685913),\n",
       " ('mobile', 0.40414339303970337),\n",
       " ('contact', 0.4011646807193756),\n",
       " ('com', 0.3892257511615753),\n",
       " ('via', 0.3775623142719269),\n",
       " ('ur', 0.35515594482421875),\n",
       " ('mail', 0.34567245841026306),\n",
       " ('thats', 0.3433647155761719),\n",
       " ('help', 0.3118445873260498),\n",
       " ('evening', 0.3091234266757965)]"
      ]
     },
     "execution_count": 46,
     "metadata": {},
     "output_type": "execute_result"
    }
   ],
   "source": [
    "# See what words' vectorizations have the smallest cosine distances from the word-vector associated with \"send:\"\n",
    "in_w2v_model.wv.most_similar(\"send\", topn = 10)"
   ]
  },
  {
   "cell_type": "markdown",
   "id": "8266510f",
   "metadata": {},
   "source": [
    "#####  Texts from people from the United States:"
   ]
  },
  {
   "cell_type": "code",
   "execution_count": 47,
   "id": "a69406c1",
   "metadata": {},
   "outputs": [
    {
     "data": {
      "text/plain": [
       "(353551, 932940)"
      ]
     },
     "execution_count": 47,
     "metadata": {},
     "output_type": "execute_result"
    }
   ],
   "source": [
    "# Convert the DataFrame column Msg_token_nostop_lemmed, which contains lists of the lemmatized, tokenized text of every\n",
    "# Message sent by users from the United States, to a list: \n",
    "us_corpus = us_sms_text_data.Msg_token_nostop_lemmmed.to_list()\n",
    "\n",
    "# Build a skipgram-based Word2Vec embedding model using hierarchical softmax for training. Ignore words with frequencies\n",
    "# less than 20; take a maximum distance between words of 5:\n",
    "us_w2v_model = gensim.models.Word2Vec(window=5, sg = 1, hs = 1, min_count=20, workers=2)\n",
    "# Build the model vocabulary:\n",
    "us_w2v_model.build_vocab(us_corpus, progress_per=10000)\n",
    "# Train the model on the corpus of Messages from users from the United States:\n",
    "us_w2v_model.train(us_corpus, total_examples=us_w2v_model.corpus_count, epochs=30, report_delay=1)"
   ]
  },
  {
   "cell_type": "code",
   "execution_count": 48,
   "id": "2cc28a8e",
   "metadata": {},
   "outputs": [
    {
     "data": {
      "text/plain": [
       "[('go', 0.48763778805732727),\n",
       " ('bring', 0.45090919733047485),\n",
       " ('meet', 0.4433470368385315),\n",
       " ('pick', 0.4395543932914734),\n",
       " ('guy', 0.4242711067199707),\n",
       " ('get', 0.4028012752532959),\n",
       " ('put', 0.39206352829933167),\n",
       " ('bit', 0.3896653354167938),\n",
       " ('tell', 0.38523611426353455),\n",
       " ('bus', 0.384977787733078)]"
      ]
     },
     "execution_count": 48,
     "metadata": {},
     "output_type": "execute_result"
    }
   ],
   "source": [
    "# See what words' vectorizations have the smallest cosine distances from the word-vector associated with come:\n",
    "us_w2v_model.wv.most_similar(\"come\", topn = 10)"
   ]
  },
  {
   "cell_type": "code",
   "execution_count": 49,
   "id": "6d80ce1f",
   "metadata": {},
   "outputs": [
    {
     "data": {
      "text/plain": [
       "[('enjoy', 0.46243464946746826),\n",
       " ('glad', 0.426955908536911),\n",
       " ('miss', 0.42615973949432373),\n",
       " ('ya', 0.4180368483066559),\n",
       " ('good', 0.4135409891605377),\n",
       " ('home', 0.41179895401000977),\n",
       " ('oh', 0.4060695767402649),\n",
       " ('soon', 0.4007858335971832),\n",
       " ('really', 0.3914867043495178),\n",
       " ('much', 0.38521575927734375)]"
      ]
     },
     "execution_count": 49,
     "metadata": {},
     "output_type": "execute_result"
    }
   ],
   "source": [
    "# Investigate words that are found in similar contexts to common/important words in Messages from users from the \n",
    "# United States. First, see what words' vectorizations have the smallest cosine distances from the word-vector \n",
    "# associated with \"love:\"\n",
    "us_w2v_model.wv.most_similar(\"love\", topn = 10)"
   ]
  },
  {
   "cell_type": "code",
   "execution_count": 50,
   "id": "639ffb73",
   "metadata": {},
   "outputs": [
    {
     "data": {
      "text/plain": [
       "[('away', 0.4487322270870209),\n",
       " ('girl', 0.41042590141296387),\n",
       " ('pretty', 0.40103551745414734),\n",
       " ('look', 0.39115944504737854),\n",
       " ('ugh', 0.38963553309440613),\n",
       " ('p', 0.3870927691459656),\n",
       " ('drive', 0.3866720497608185),\n",
       " ('see', 0.38137394189834595),\n",
       " ('remember', 0.3769077658653259),\n",
       " ('know', 0.36284366250038147)]"
      ]
     },
     "execution_count": 50,
     "metadata": {},
     "output_type": "execute_result"
    }
   ],
   "source": [
    "# See what words' vectorizations have the smallest cosine distances from the word-vector associated with \"like:\"\n",
    "us_w2v_model.wv.most_similar(\"like\", topn = 10)"
   ]
  },
  {
   "cell_type": "code",
   "execution_count": 51,
   "id": "d57b070f",
   "metadata": {},
   "outputs": [
    {
     "data": {
      "text/plain": [
       "[('hi', 0.5994131565093994),\n",
       " ('may', 0.583958625793457),\n",
       " ('ricky', 0.5732295513153076),\n",
       " ('email', 0.5197770595550537),\n",
       " ('please', 0.5099819302558899),\n",
       " ('thank', 0.4844767451286316),\n",
       " ('min', 0.48233214020729065),\n",
       " ('problem', 0.47475653886795044),\n",
       " ('g', 0.4597226083278656),\n",
       " ('k', 0.4418783485889435)]"
      ]
     },
     "execution_count": 51,
     "metadata": {},
     "output_type": "execute_result"
    }
   ],
   "source": [
    "# See what words' vectorizations have the smallest cosine distances from the word-vector associated with \"thanks:\"\n",
    "us_w2v_model.wv.most_similar(\"thanks\", topn = 10)"
   ]
  },
  {
   "cell_type": "markdown",
   "id": "a3883aaf",
   "metadata": {},
   "source": [
    "## The Most Common Two-, Three-, and Four-Word Groups of Words\n"
   ]
  },
  {
   "cell_type": "markdown",
   "id": "110a88ca",
   "metadata": {},
   "source": [
    "TF and TF-IDF analyses, particularly when combined with word embeddings, give a sense of some of the general topics of text messages sent by people from Singapore, India, and the United States. However, looking at how frequently particular groups of words appear can complement my previous analysis and perhaps provide more insight. Knowing that \"meet,\" \"go\", and \"come\" are common and/or important words in text messages gives a sense of meetings being planned, but seeing groups of words like \"meet you\" or \"come for dinner\" would give an even clearer idea of text message topics. I was prodded down this path by my results from my investigation into word embeddings of words found in text messages sent by people from India: words which have similar contexts to \"send\" in that corpus included \"way2sms,\" \"via,\" \"com,\" and \"mobile.\" Could there be a lot of text messages sent by people from India which were sent by a \"way2sms\" messaging service? Looking for phrases like \"sent via way2sms\" could answer that question.\n",
    "I decided to look through the corpuses of texts from people from Singapore, India, and the United States to find the most common two-, three-, and four-word phrases which appeared."
   ]
  },
  {
   "cell_type": "code",
   "execution_count": 52,
   "id": "d49f0bad",
   "metadata": {},
   "outputs": [
    {
     "name": "stdout",
     "output_type": "stream",
     "text": [
      "Singapore Corpus Bigrams:\n",
      "[('wan na', 567), ('haha okay', 354), ('u go', 328), ('u wan', 322), ('haha yeah', 271), ('u get', 236), ('wat time', 230), ('r u', 202), ('go home', 197), ('lol haha', 191), ('reach home', 180), ('haha haha', 177), ('love u', 174), ('meet u', 168), ('go back', 167), ('come back', 165), ('see u', 161), ('u want', 152), ('time u', 150), ('tell u', 147), ('u come', 144), ('haha u', 144), ('gon na', 144), ('call u', 142), ('next time', 139)]\n",
      "Singapore Corpus Trigrams:\n",
      "[('wan na go', 116), ('u wan na', 96), ('wat time u', 74), ('reach home le', 61), ('sob sob sob', 58), ('wan na meet', 55), ('happy new year', 35), ('u wan 2', 33), ('wan na play', 28), ('sorry late reply', 28), ('wan na eat', 28), ('haha okay okay', 26), ('haha ya lo', 26), ('u wan go', 25), ('u reach home', 25), ('let u know', 23), ('x x haha', 23), ('go slp le', 22), ('wan na come', 21), ('love u dear', 21), ('love u much', 21), ('haha haha okay', 21), ('haha dun know', 21), ('wat r u', 20), ('u come back', 19)]\n",
      "Singapore Corpus Four-grams:\n",
      "[('u wan na meet', 14), ('dear reach home le', 14), ('love u love u', 13), ('wat time u wan', 12), ('u wan na go', 12), ('u love u love', 11), ('wan na play mahjong', 11), ('3 mechanical engineering 4', 10), ('2 alvin chia 3', 10), ('ya ya ya ya', 10), ('alvin chia 3 mechanical', 9), ('chia 3 mechanical engineering', 9), ('wan na join u', 8), ('lol haha ya lo', 8), ('wat time u go', 7), ('dun disturb u liao', 7), ('u wan 2 go', 7), ('boo boo boo boo', 7), ('happy chinese new year', 7), ('xiao long bao buffet', 7), ('lo sob sob sob', 7), ('u wan 2 come', 6), ('niao niao niao niao', 6), ('u wan na play', 6), ('u reach home le', 6)]\n"
     ]
    }
   ],
   "source": [
    "# Initialize an empty string:\n",
    "sg_corpus = ''\n",
    "\n",
    "# Loop over the column of lists of lemmatized words in the DataFrame and add each word to the string sg_corpus:\n",
    "# Begin loop:\n",
    "for i in range(len(sg_sms_text_data.Msg_token_nostop_lemmmed)):\n",
    "    # Select the current list of lemmatized words:\n",
    "    thislist = sg_sms_text_data.Msg_token_nostop_lemmmed.iloc[i]\n",
    "    # Begin loop over list of lemmatized words:\n",
    "    for j in range(len(thislist)):\n",
    "        # Select the current word and add a space after it:\n",
    "        thisword = thislist[j] + \" \"\n",
    "        # Append the word+space to the string sg_corpus:\n",
    "        sg_corpus += thisword\n",
    "\n",
    "# The string sg_corpus contains every lemmatized word in every text message from users from Singapore. Use the NLTK \n",
    "# method ngrams to look for two-word phrases in sg_corpus. ngrams() only accepts a list of tokenized words, so tokenize\n",
    "# sg_corpus in the method call to ngrams(): \n",
    "sg_corpus_bigrams = ngrams(word_tokenize(sg_corpus), 2)\n",
    "# ngrams() returns an iterator, so generate a list of the two-word phrases found using it; this is done \n",
    "# via list comprehension. I chose to use list comprehension rather than to call list() on sg_corpus_bigrams because\n",
    "# the list comprehension method makes the output easier to read, in my opinion: \n",
    "sg_corpus_bigrams = [' '.join(bigrams) for bigrams in sg_corpus_bigrams]\n",
    "# Instantiate a Counter object using the list of two-word phrases sg_corpus_bigrams:\n",
    "sg_corpus_bigrams_frequency = Counter(sg_corpus_bigrams)\n",
    "\n",
    "# Print out the 25 most common two-word phrases (i.e., bigrams) using the .most_common() method:\n",
    "print(\"Singapore Corpus Bigrams:\")\n",
    "print(sg_corpus_bigrams_frequency.most_common(25))\n",
    "\n",
    "# Use ngrams() to look for three-word phrases in the string sg_corpus. Once again, sg_corpus must be tokenized, \n",
    "# and I again do this in the method call to ngrams():\n",
    "sg_corpus_trigrams = ngrams(word_tokenize(sg_corpus), 3)\n",
    "# Use list comprehension to generate a list from the iterator sg_corpus_trigrams:\n",
    "sg_corpus_trigrams = [' '.join(trigrams) for trigrams in sg_corpus_trigrams]\n",
    "# Instantiate a Counter object using the list of three-word phrases sg_corpus_trigrams:\n",
    "sg_corpus_trigrams_frequency = Counter(sg_corpus_trigrams)\n",
    "\n",
    "# Print out the 25 most common three-word phrases (i.e., trigrams) using the .most_common() method:\n",
    "print(\"Singapore Corpus Trigrams:\")\n",
    "print(sg_corpus_trigrams_frequency.most_common(25))\n",
    "\n",
    "# Use ngrams() to look for four-word phrases in the string sg_corpus, tokenizing the string in the method call:\n",
    "sg_corpus_quadgrams = ngrams(word_tokenize(sg_corpus), 4)\n",
    "# Use list comprehension to generate a list from the iterator sg_corpus_quadgrams:\n",
    "sg_corpus_quadgrams = [' '.join(quadgrams) for quadgrams in sg_corpus_quadgrams]\n",
    "# Instantiate a Counter object using the list of four-word phrases sg_corpus_quadgrams:\n",
    "sg_corpus_quadgrams_frequency = Counter(sg_corpus_quadgrams)\n",
    "\n",
    "# Print out the 25 most common four-word phrases (i.e., four-grams) using the .most_common() method:\n",
    "print(\"Singapore Corpus Four-grams:\")\n",
    "print(sg_corpus_quadgrams_frequency.most_common(25))"
   ]
  },
  {
   "cell_type": "code",
   "execution_count": 53,
   "id": "a6f1d309",
   "metadata": {},
   "outputs": [
    {
     "name": "stdout",
     "output_type": "stream",
     "text": [
      "        bigram\n",
      "0        u_wan\n",
      "1       wan_na\n",
      "2      go_back\n",
      "3      go_home\n",
      "4    haha_okay\n",
      "5     wat_time\n",
      "6    come_back\n",
      "7          r_u\n",
      "8   reach_home\n",
      "9    next_time\n",
      "10      gon_na\n",
      "11   next_week\n",
      "12    let_know\n",
      "13     sob_sob\n",
      "14      love_u\n",
      "15   haha_yeah\n"
     ]
    }
   ],
   "source": [
    "# Convert the DataFrame column Msg_token_nostop_lemmed, which contains lists of the lemmatized, tokenized text of every\n",
    "# Message sent by users from Singapore, to a list:\n",
    "sg_corpus = sg_sms_text_data.Msg_token_nostop_lemmmed.to_list()\n",
    "\n",
    "# Use the Gensim method Phrases() to detect two-word phrases (i.e., bigrams) in the list of lists of lemmatized words \n",
    "# sg_corpus. \n",
    "# While I used ngrams() above to accomplish this task, I wanted to get practice using other ways of finding multi-word\n",
    "# expressions in strings using alternative methods.\n",
    "bigram_transformer = Phrases(sg_corpus, min_count=100, threshold=2)\n",
    "\n",
    "# Save the minimal state information needed to use the bigram_transformer object as a .freeze() object; this allows me \n",
    "# faster access to the information in the Phrases object constructed above:\n",
    "sg_bigrams = bigram_transformer.freeze()\n",
    "\n",
    "# Initialize an empty list:\n",
    "bigram_list = []  \n",
    "\n",
    "# Loop over keys in the sg_bigrams.phasegrams dictionary to retrieve the actual text of the bigrams found:\n",
    "for bigram in sg_bigrams.phrasegrams.keys():\n",
    "    bigram_list.append(bigram)\n",
    "\n",
    "# Convert the list of bigrams found above to a Pandas DataFrame:\n",
    "bigram_collection = pd.DataFrame(bigram_list, columns=['bigram'])\n",
    "\n",
    "# Print out the DataFrame of bigrams found:\n",
    "print(bigram_collection)"
   ]
  },
  {
   "cell_type": "markdown",
   "id": "d7e04226",
   "metadata": {},
   "source": [
    "#### Texts from people from India:"
   ]
  },
  {
   "cell_type": "code",
   "execution_count": 54,
   "id": "c4572a7d",
   "metadata": {},
   "outputs": [
    {
     "name": "stdout",
     "output_type": "stream",
     "text": [
      "India Corpus Bigrams:\n",
      "[('`` ``', 102), ('k k', 93), ('u r', 84), ('r u', 76), ('take care', 51), ('good morning', 41), ('via way2sms', 37), ('way2sms com', 37), ('send via', 31), ('let know', 31), ('good night', 30), ('ok sure', 30), ('call late', 26), ('happy birthday', 25), ('oh ok', 24), ('come home', 23), ('hi hi', 23), ('u knw', 22), ('call u', 21), ('u u', 20), ('love u', 20), ('u get', 20), ('oh k', 19), ('gud ni8', 19), ('go 2', 19)]\n",
      "India Corpus Trigrams:\n",
      "[('`` `` ``', 73), ('via way2sms com', 37), ('send via way2sms', 29), ('begin vcard version', 18), ('vcard version decimal', 18), ('version decimal n', 18), ('x class private', 17), ('class private end', 17), ('private end vcard', 17), ('oh k k', 11), ('k k k', 11), ('hi hi hi', 11), ('tel cell x', 10), ('cell x class', 10), ('hw r u', 9), ('wat abt u', 9), ('wer r u', 9), ('tc send via', 8), ('abhi send via', 8), ('happy new year', 8), ('sorry call late', 8), ('search apt opportunity', 7), ('\\\\ `` ``', 7), ('`` \\\\ ``', 7), ('u didnt lyk', 6)]\n",
      "India Corpus Four-grams:\n",
      "[('`` `` `` ``', 64), ('send via way2sms com', 29), ('begin vcard version decimal', 18), ('vcard version decimal n', 18), ('x class private end', 17), ('class private end vcard', 17), ('tel cell x class', 10), ('cell x class private', 10), ('tc send via way2sms', 8), ('abhi send via way2sms', 8), ('sorry call late meet', 6), ('bday x anniversary photo', 6), ('x anniversary photo type', 6), ('anniversary photo type jpeg', 6), ('photo type jpeg encoding', 6), ('type jpeg encoding base', 6), ('jpeg encoding base x', 6), ('encoding base x class', 6), ('base x class private', 6), ('`` `` \\\\ ``', 6), ('`` \\\\ `` ``', 6), ('hi hi hi hi', 6), ('private end vcard begin', 5), ('end vcard begin vcard', 5), ('vcard begin vcard version', 5)]\n"
     ]
    }
   ],
   "source": [
    "# Initialize an empty string:\n",
    "in_corpus = ''\n",
    "\n",
    "# Loop over the column of lists of lemmatized words in the DataFrame and add each word to the string in_corpus:\n",
    "# Begin loop:\n",
    "for i in range(len(in_sms_text_data.Msg_token_nostop_lemmmed)):\n",
    "    # Select the current list of lemmatized words:\n",
    "    thislist = in_sms_text_data.Msg_token_nostop_lemmmed.iloc[i]\n",
    "    # Begin loop over list of lemmatized words:\n",
    "    for j in range(len(thislist)):\n",
    "        # Select the current word and add a space after it:\n",
    "        thisword = thislist[j] + \" \"\n",
    "        # Append the word+space to the string in_corpus:\n",
    "        in_corpus += thisword\n",
    "\n",
    "# Use ngrams() to look for two-word phrases in the string in_corpus, tokenizing the string in the method call:\n",
    "in_corpus_bigrams = ngrams(word_tokenize(in_corpus), 2)\n",
    "# Use list comprehension to generate a list from the iterator in_corpus_bigrams:\n",
    "in_corpus_bigrams = [' '.join(bigrams) for bigrams in in_corpus_bigrams]\n",
    "# Instantiate a Counter object using the list of two-word phrases in_corpus_bigrams:\n",
    "in_corpus_bigrams_frequency = Counter(in_corpus_bigrams)\n",
    "\n",
    "# Print out the 25 most common two-word phrases using the .most_common() method:\n",
    "print(\"India Corpus Bigrams:\")\n",
    "print(in_corpus_bigrams_frequency.most_common(25))\n",
    "\n",
    "# Use ngrams() to look for three-word phrases in the string in_corpus, tokenizing the string in the method call:\n",
    "in_corpus_trigrams = ngrams(word_tokenize(in_corpus), 3)\n",
    "# Use list comprehension to generate a list from the iterator in_corpus_trigrams:\n",
    "in_corpus_trigrams = [' '.join(trigrams) for trigrams in in_corpus_trigrams]\n",
    "# Instantiate a Counter object using the list of three-word phrases in_corpus_trigrams:\n",
    "in_corpus_trigrams_frequency = Counter(in_corpus_trigrams)\n",
    "\n",
    "# Print out the 25 most common three-word phrases using the .most_common() method:\n",
    "print(\"India Corpus Trigrams:\")\n",
    "print(in_corpus_trigrams_frequency.most_common(25))\n",
    "\n",
    "# Use ngrams() to look for four-word phrases in the string in_corpus, tokenizing the string in the method call:\n",
    "in_corpus_quadgrams = ngrams(word_tokenize(in_corpus), 4)\n",
    "# Use list comprehension to generate a list from the iterator in_corpus_quadgrams:\n",
    "in_corpus_quadgrams = [' '.join(quadgrams) for quadgrams in in_corpus_quadgrams]\n",
    "# Instantiate a Counter object using the list of four-word phrases in_corpus_quadgrams:\n",
    "in_corpus_quadgrams_frequency = Counter(in_corpus_quadgrams)\n",
    "\n",
    "# Print out the 25 most common four-word phrases using the .most_common() method:\n",
    "print(\"India Corpus Four-grams:\")\n",
    "print(in_corpus_quadgrams_frequency.most_common(25))"
   ]
  },
  {
   "cell_type": "markdown",
   "id": "963d5d69",
   "metadata": {},
   "source": [
    "#### Texts from people from the United States:"
   ]
  },
  {
   "cell_type": "code",
   "execution_count": 55,
   "id": "80d68f1f",
   "metadata": {},
   "outputs": [
    {
     "name": "stdout",
     "output_type": "stream",
     "text": [
      "United States Corpus Bigrams:\n",
      "[('gon na', 99), ('let know', 75), ('hi ricky', 57), ('wan na', 46), ('thanks hi', 45), ('u get', 25), ('get back', 19), ('ok thanks', 19), ('last night', 18), ('u know', 18), ('thanks ok', 17), ('caw caw', 17), ('take care', 16), ('make sure', 15), ('come home', 15), ('want come', 15), ('r u', 15), ('new year', 15), ('great day', 15), ('love much', 15), ('hi sue', 14), ('lol u', 13), ('next week', 13), ('please start', 13), ('go back', 12)]\n",
      "United States Corpus Trigrams:\n",
      "[('thanks hi ricky', 17), ('happy new year', 11), ('gon na get', 10), ('let u know', 10), ('gon na go', 9), ('hi ing cheong', 8), ('hi yeng chin', 8), ('please let know', 7), ('email address email', 7), ('think gon na', 6), ('choa chu kang', 6), ('please start first', 6), ('thanks ok thanks', 5), ('let know get', 5), ('chu kang mrt', 5), ('time per night', 4), ('take good care', 4), ('wish great day', 4), ('probably gon na', 4), ('make feel well', 4), ('say gon na', 4), ('thanks hi stewart', 4), ('villa verde unit', 4), ('verde unit tell', 4), ('street approx build', 4)]\n",
      "United States Corpus Four=grams:\n",
      "[('choa chu kang mrt', 5), ('villa verde unit tell', 4), ('email address email thank', 4), ('address email thank hi', 4), ('gentleman treat dignity respect', 3), ('number street approx build', 3), ('hi interest villa verde', 3), ('interest villa verde unit', 3), ('street approx build gsf', 3), ('approx build gsf area', 3), ('build gsf area thanks', 3), ('gsf area thanks min', 3), ('mr kan 4 verde', 3), ('outside choa chu kang', 3), ('hi ricky need check', 3)]\n"
     ]
    }
   ],
   "source": [
    "# Initialize an empty string:\n",
    "us_corpus = ''\n",
    "\n",
    "# Loop over the column of lists of lemmatized words in the DataFrame and add each word to the string us_corpus:\n",
    "# Begin loop:\n",
    "for i in range(len(us_sms_text_data.Msg_token_nostop_lemmmed)):\n",
    "    # Select the current list of lemmatized words:\n",
    "    thislist = us_sms_text_data.Msg_token_nostop_lemmmed.iloc[i]\n",
    "    # Begin loop over list of lemmatized words:\n",
    "    for j in range(len(thislist)):\n",
    "        # Select the current word and add a space after it:\n",
    "        thisword = thislist[j] + \" \"\n",
    "        # Append the word+space to the string us_corpus:\n",
    "        us_corpus += thisword\n",
    "\n",
    "# Use ngrams() to look for two-word phrases in the string us_corpus, tokenizing the string in the method call:\n",
    "us_corpus_bigrams = ngrams(word_tokenize(us_corpus), 2)\n",
    "# Use list comprehension to generate a list from the iterator us_corpus_bigrams:\n",
    "us_corpus_bigrams = [' '.join(bigrams) for bigrams in us_corpus_bigrams]\n",
    "# Instantiate a Counter object using the list of two-word phrases us_corpus_bigrams:\n",
    "us_corpus_bigrams_frequency = Counter(us_corpus_bigrams)\n",
    "\n",
    "# Print out the 25 most common two-word phrases using the .most_common() method:\n",
    "print(\"United States Corpus Bigrams:\")\n",
    "print(us_corpus_bigrams_frequency.most_common(25))\n",
    "\n",
    "# Use ngrams() to look for three-word phrases in the string us_corpus, tokenizing the string in the method call:\n",
    "us_corpus_trigrams = ngrams(word_tokenize(us_corpus), 3)\n",
    "# Use list comprehension to generate a list from the iterator us_corpus_trigrams:\n",
    "us_corpus_trigrams = [' '.join(trigrams) for trigrams in us_corpus_trigrams]\n",
    "# Instantiate a Counter object using the list of three-word phrases us_corpus_trigrams:\n",
    "us_corpus_trigrams_frequency = Counter(us_corpus_trigrams)\n",
    "\n",
    "# Print out the 25 most common three-word phrases using the .most_common() method:\n",
    "print(\"United States Corpus Trigrams:\")\n",
    "print(us_corpus_trigrams_frequency.most_common(25))\n",
    "\n",
    "# Use ngrams() to look for four-word phrases in the string us_corpus, tokenizing the string in the method call:\n",
    "us_corpus_quadgrams = ngrams(word_tokenize(us_corpus), 4)\n",
    "# Use list comprehension to generate a list from the iterator us_corpus_quadgrams:\n",
    "us_corpus_quadgrams = [' '.join(grams) for grams in us_corpus_quadgrams]\n",
    "# Instantiate a Counter object using the list of four-word phrases us_corpus_quadgrams:\n",
    "us_corpus_quadgrams_frequency = Counter(us_corpus_quadgrams)\n",
    "\n",
    "# Print out the 15 most common three-word phrases using the .most_common() method:\n",
    "print(\"United States Corpus Four=grams:\")\n",
    "print(us_corpus_quadgrams_frequency.most_common(15))"
   ]
  },
  {
   "cell_type": "markdown",
   "id": "9c54533e",
   "metadata": {},
   "source": [
    "## Using Message Text to Predict Country of Origin\n"
   ]
  },
  {
   "cell_type": "code",
   "execution_count": 56,
   "id": "65041ac5",
   "metadata": {},
   "outputs": [
    {
     "name": "stdout",
     "output_type": "stream",
     "text": [
      "Singapore              31814\n",
      "India                   7085\n",
      "United States           5679\n",
      "Sri Lanka               1047\n",
      "Malaysia                 767\n",
      "Pakistan                 751\n",
      "unknown                  602\n",
      "Canada                   198\n",
      "Bangladesh               126\n",
      "China                    107\n",
      "Philippines               67\n",
      "Indonesia                 48\n",
      "United Kingdom            40\n",
      "Nepal                     39\n",
      "Hungary                   28\n",
      "Serbia                    22\n",
      "Kenya                     20\n",
      "Ghana                     18\n",
      "Italy                     10\n",
      "Trinidad and Tobago       10\n",
      "Lebanon                   10\n",
      "Turkey                    10\n",
      "Nigeria                   10\n",
      "New Zealand               10\n",
      "Slovenia                  10\n",
      "Macedonia                 10\n",
      "Morocco                    9\n",
      "Australia                  9\n",
      "Romania                    9\n",
      "Jamaica                    8\n",
      "Barbados                   8\n",
      "Spain                      5\n",
      "France                     5\n",
      "Name: country, dtype: int64\n",
      "\n",
      "Singapore        31814\n",
      "India             7085\n",
      "United States     5679\n",
      "Sri Lanka         1047\n",
      "Malaysia           767\n",
      "Pakistan           751\n",
      "unknown            602\n",
      "Canada             198\n",
      "Bangladesh         126\n",
      "China              107\n",
      "Name: country, dtype: int64\n"
     ]
    }
   ],
   "source": [
    "# Which countries of origin are associated with at least 100 text messages?\n",
    "\n",
    "# Print out the number of texts from each country:\n",
    "print(sms_text_data.country.value_counts())\n",
    "\n",
    "# Select records only from those countries which are associated with 100 or more texts:\n",
    "sms_text_data_over100 = sms_text_data[sms_text_data.country.isin(['Singapore','India','United States','Sri Lanka',\\\n",
    "                                                                  'Malaysia','Pakistan','unknown','Canada',\\\n",
    "                                                                  'Bangladesh','China'])]\n",
    "\n",
    "# Print out the number of texts from each country in the new DataFrame, just to make sure that nothing blatantly obvious\n",
    "# has gone wrong:\n",
    "print('')\n",
    "print(sms_text_data_over100.country.value_counts())"
   ]
  },
  {
   "cell_type": "code",
   "execution_count": 57,
   "id": "6ca2569f",
   "metadata": {},
   "outputs": [],
   "source": [
    "# The column of strings Message will need to be converted to a list of strings; this is done below:\n",
    "master_text_list = sms_text_data_over100.Message.to_list()\n",
    "# Similarly, convert the column country to a list:\n",
    "master_country_list = sms_text_data_over100.country.to_list()"
   ]
  },
  {
   "cell_type": "code",
   "execution_count": 58,
   "id": "cf8709db",
   "metadata": {},
   "outputs": [],
   "source": [
    "# Split the data into training and validation subsets. I am choosing to place 85% of the Message data into the training\n",
    "# subset, and 15% into the test subset. An initial random state is provided to ensure the same spliltting between\n",
    "# training and validation subsets each time the code is run:\n",
    "train_data, test_data, train_labels, test_labels = train_test_split(master_text_list, master_country_list,\\\n",
    "                                                                 train_size = 0.85, test_size = 0.15, random_state = 42)"
   ]
  },
  {
   "cell_type": "code",
   "execution_count": 59,
   "id": "03b516b8",
   "metadata": {},
   "outputs": [],
   "source": [
    "# use CountVectorizer() to make a dictionary and convert words in the training and validation subsets to count \n",
    "# frequencies of words in that dictionary:\n",
    "# Instantiate an object of the CountVectorizer() class:\n",
    "countvector = CountVectorizer()\n",
    "# Fit the CountVectorizer object to the vocabulary in the training data:\n",
    "countvector.fit(train_data)\n",
    "# Transform the words in the training data subset to counts:\n",
    "train_counts = countvector.transform(train_data)\n",
    "# Transform the words in the validation data subset to counts:\n",
    "test_counts = countvector.transform(test_data)"
   ]
  },
  {
   "cell_type": "code",
   "execution_count": 60,
   "id": "88ba0a8d",
   "metadata": {},
   "outputs": [],
   "source": [
    "# Use the arrays from CountVectorizer, as well as the known country \"labels\" to build a Multinomial Naïve Bayes \n",
    "# classifier.\n",
    "# Instantiate an object of the MultinomialNB class:\n",
    "mnb_classifier = MultinomialNB()\n",
    "# Train the MultinomialNB object on the training data subset:\n",
    "mnb_classifier.fit(train_counts, train_labels)\n",
    "# Use the trained model to make predictions for the validation subset:\n",
    "mnb_predictions = mnb_classifier.predict(test_counts)"
   ]
  },
  {
   "cell_type": "code",
   "execution_count": 61,
   "id": "dc4f533d",
   "metadata": {},
   "outputs": [
    {
     "name": "stdout",
     "output_type": "stream",
     "text": [
      "MNB classifier accuracy: 0.77\n",
      "MNB Classification Report:\n",
      "               precision    recall  f1-score   support\n",
      "\n",
      "    Singapore       0.78      0.98      0.87      4807\n",
      "        India       0.78      0.41      0.54      1083\n",
      "United States       0.68      0.37      0.48       839\n",
      "    Sri Lanka       0.83      0.35      0.50       164\n",
      "     Malaysia       0.00      0.00      0.00       100\n",
      "     Pakistan       0.80      0.45      0.58        88\n",
      "      unknown       0.85      0.14      0.24        79\n",
      "       Canada       1.00      0.03      0.06        31\n",
      "   Bangladesh       0.00      0.00      0.00        15\n",
      "        China       0.00      0.00      0.00        21\n",
      "\n",
      "     accuracy                           0.77      7227\n",
      "    macro avg       0.57      0.27      0.33      7227\n",
      " weighted avg       0.75      0.77      0.73      7227\n",
      "\n"
     ]
    }
   ],
   "source": [
    "# Make a list of the names of the countries which were included in the DataFrame sms_text_data_over100:\n",
    "countries = ['Singapore','India','United States','Sri Lanka','Malaysia','Pakistan','unknown','Canada',\\\n",
    "             'Bangladesh','China']\n",
    "\n",
    "# Determine the model's accuracy and print it to screen:\n",
    "print('MNB classifier accuracy: ' + str(round(accuracy_score(test_labels,mnb_predictions),2)))\n",
    "# Use the method classification_report() to calculate the precision, recall, and f1 scores of each country\n",
    "# in the validation set. As a bonus, the model accuracy will also be included; this should match the number\n",
    "# calculated immediately above:\n",
    "print('MNB Classification Report:')\n",
    "print(classification_report(test_labels, mnb_predictions, labels=countries, target_names=countries, \\\n",
    "                            zero_division = 0.0))"
   ]
  },
  {
   "cell_type": "markdown",
   "id": "5e11f31f",
   "metadata": {},
   "source": [
    "The overall accuracy of my Multinomial Naive Bayes model is 77%, which, while much better than guessing a country at random (a 10% chance of being correct) is in absolute terms mediocre. Indeed, a little further digging reveals several flaws with the model. First of all, it was unable to identify any text messages from people from Malaysia; it misclassified every single one of those 100 messages as having been sent by people from some other country (most likely Singapore, given Malaysia’s proximity to Singapore). This isn’t entirely unsurprising; however, the model could also not identify any messages sent by people from Bangladesh and China. There were fewer messages from people from these countries in the corpus, so perhaps it should not be surprising that the model had a hard time identifying them as well. I note that, while the model did not misclassify any text messages as having been sent by someone from Canada—that is to say, the false positive rate for Canadian messages was 0—it misclassified an awful lot of text messages truly sent by people from Canada; that is to say, the recall for Canadian messages was atrocious. The recall score for messages sent by people from \"unknown\" was only marginally better. In fact, only Singapore had a recall score above 50%, meaning that the model did not misclassify many messages from people from Singapore as being associated with some other country. (The model did, however, have a higher \"false positive\" rate for messages classified as having been sent from people from Singapore, as evidenced by the precision score of 78%.) The macro average precision and recall scores for the model are dismal at 57% and 27%, respectively; however, these are unweighted averages that do not take label imbalance into account. The weighted average precision and recall do take the label imbalance into account, and they paint a slightly rosier picture with a weighted average precision of 75% and a weighted average recall of 77%. (The latter is of course being dominated by the very high recall score for messages from people from Singapore; this country dominates the corpus.)\n",
    "In short, the Multinomial Naive Bayes model I built is, perhaps unsurprisingly, good at finding messages from people from Singapore and labeling them as such; it has a much harder time differentiating between other countries. I say that this result probably isn't surprising because text messages from people from Singapore dominate the corpus of text messages that I trained the model on—given so many messages from people from Singapore in the training set, the model should be good at differentiating those messages from other messages. In fact, there are three countries whose associated text messages were all misclassified; this is a decided flaw of my model. Thus in absolute terms, the model I built is mediocre at best and is really only well suited to finding messages sent by people from Singapore."
   ]
  },
  {
   "cell_type": "markdown",
   "id": "abb4fc30",
   "metadata": {},
   "source": [
    "## Conclusions"
   ]
  },
  {
   "cell_type": "markdown",
   "id": "ff54737d",
   "metadata": {},
   "source": [
    "I used the National University of Singapore SMS Corpus data set to practice asking questions about text-based data sets and using natural language processing to answer these questions. A variety of techniques were used to gain insight into the topics of text messages in the data set, including word count/term frequency (TF), term frequency-inverse term frequency (TF-IDF), word embeddings, and n-gram analysis. I developed the following questions and used the above methods to attempt to answer them:\n",
    "\n",
    "1. Text message senders from which countries send the longest messages?\n",
    "People from Canada sent text messages which, on average, contained the most characters. People from Sri Lanka, Macedonia, Ghana, and Singapore round out the top five longest average text messages.\n",
    "What are some of the most common topics of text messages sent by people from Singapore, India, and the United States? How are they similar, and how are they different?\n",
    "2. People from Singapore seem to primarily use text messages primarily to set up meetings and/or get-togethers, and to ask people if they would like to do something. The other two most common text message topics were reactions to events/memories/shared information, and to send well wishes to loved ones. Some people from India seem to have been using a text message sending service to send their messages, which seem to commonly be about either setting up meetings/get togethers or setting up a time to call the message receiver. People from the United States also use text messages to set up meetings/get-togethers, but seem to use them more for chatting and to attend to personal matters such as finding an apartment to rent.\n",
    "3. How (if at all) did the common topics of text messages sent by people from Singapore change between 2003 and 2011?\n",
    "The messages sent by people from Singapore in 2003 seem to have been primarily about setting up meetings and/or get-togethers, or to tell a receiver that they will be late for a meeting. Messages from people from Singapore still dealt with meetings/get-togethers in 2011, but messages that seemed to be reacting to events, memories, links, or other shared information became more common.\n",
    "4. Is it possible to use text message data to predict what country a sender is from?\n",
    "The Multinomial Naive Bayes model I built was fairly successful at identifying messages sent by people from Singapore as having been associated with Singapore, but had a much harder time correctly classifying text messages associated with senders from other countries. Such a model is of very limited use in trying to predict what country a sender is from, so I consider it marginally successful at best."
   ]
  }
 ],
 "metadata": {
  "kernelspec": {
   "display_name": "Python 3 (ipykernel)",
   "language": "python",
   "name": "python3"
  },
  "language_info": {
   "codemirror_mode": {
    "name": "ipython",
    "version": 3
   },
   "file_extension": ".py",
   "mimetype": "text/x-python",
   "name": "python",
   "nbconvert_exporter": "python",
   "pygments_lexer": "ipython3",
   "version": "3.9.12"
  }
 },
 "nbformat": 4,
 "nbformat_minor": 5
}
