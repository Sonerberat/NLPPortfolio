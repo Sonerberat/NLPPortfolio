{
  "nbformat": 4,
  "nbformat_minor": 0,
  "metadata": {
    "colab": {
      "provenance": []
    },
    "kernelspec": {
      "name": "python3",
      "display_name": "Python 3"
    },
    "language_info": {
      "name": "python"
    },
    "accelerator": "GPU",
    "gpuClass": "standard"
  },
  "cells": [
    {
      "cell_type": "markdown",
      "source": [
        "#  Named Entity Recognition (NER)"
      ],
      "metadata": {
        "id": "5ovJ9bWx7WrH"
      }
    },
    {
      "cell_type": "markdown",
      "source": [
        "### Import libraries \n"
      ],
      "metadata": {
        "id": "XxoonHPE7fUL"
      }
    },
    {
      "cell_type": "code",
      "source": [
        "import os \n",
        "import numpy as np\n",
        "import pandas as pd\n",
        "import random as rnd\n",
        "import trax \n",
        "\n",
        "from utils import get_params, get_vocab\n",
        "from trax.supervised import training\n",
        "from trax import layers as tl\n",
        "\n",
        "# set random seeds to make this notebook easier to replicate\n",
        "rnd.seed(33)"
      ],
      "metadata": {
        "id": "cLlql9Y67XPH"
      },
      "execution_count": 14,
      "outputs": []
    },
    {
      "cell_type": "markdown",
      "source": [
        "### Exploring the data"
      ],
      "metadata": {
        "id": "AmVjR9759Lya"
      }
    },
    {
      "cell_type": "code",
      "source": [
        "# display original kaggle data\n",
        "data = pd.read_csv(\"data/ner_dataset.csv\", encoding = \"ISO-8859-1\") \n",
        "train_sents = open('data/small/train/sentences.txt', 'r').readline()\n",
        "train_labels = open('data/small/train/labels.txt', 'r').readline()\n",
        "print('SENTENCE:', train_sents)\n",
        "print('SENTENCE LABEL:', train_labels)\n",
        "print('ORIGINAL DATA:\\n', data.head(5))\n",
        "del(data, train_sents, train_labels)"
      ],
      "metadata": {
        "colab": {
          "base_uri": "https://localhost:8080/"
        },
        "id": "dYOA1rb183qd",
        "outputId": "d4a166fc-7e8d-4506-b146-ad91751e2a3c"
      },
      "execution_count": 15,
      "outputs": [
        {
          "output_type": "stream",
          "name": "stdout",
          "text": [
            "SENTENCE: Thousands of demonstrators have marched through London to protest the war in Iraq and demand the withdrawal of British troops from that country .\n",
            "\n",
            "SENTENCE LABEL: O O O O O O B-geo O O O O O B-geo O O O O O B-gpe O O O O O\n",
            "\n",
            "ORIGINAL DATA:\n",
            "     Sentence #           Word  POS Tag\n",
            "0  Sentence: 1      Thousands  NNS   O\n",
            "1          NaN             of   IN   O\n",
            "2          NaN  demonstrators  NNS   O\n",
            "3          NaN           have  VBP   O\n",
            "4          NaN        marched  VBN   O\n"
          ]
        }
      ]
    },
    {
      "cell_type": "markdown",
      "source": [
        "### Importing the Data"
      ],
      "metadata": {
        "id": "CVp_2KefSbGu"
      }
    },
    {
      "cell_type": "markdown",
      "source": [
        "I will import the preprocessed data and explore it"
      ],
      "metadata": {
        "id": "eb0alxvnSnqh"
      }
    },
    {
      "cell_type": "code",
      "source": [
        "vocab, tag_map = get_vocab('data/large/words.txt', 'data/large/tags.txt')\n",
        "t_sentences, t_labels, t_size = get_params(vocab, tag_map, 'data/large/train/sentences.txt', 'data/large/train/labels.txt')\n",
        "v_sentences, v_labels, v_size = get_params(vocab, tag_map, 'data/large/val/sentences.txt', 'data/large/val/labels.txt')\n",
        "test_sentences, test_labels, test_size = get_params(vocab, tag_map, 'data/large/test/sentences.txt', 'data/large/test/labels.txt')"
      ],
      "metadata": {
        "id": "ikWdTgCnBdtB"
      },
      "execution_count": 16,
      "outputs": []
    },
    {
      "cell_type": "code",
      "source": [
        "# vocab translates from a word to a unique number\n",
        "print('vocab[\"the\"]:', vocab[\"the\"])\n",
        "# Pad token\n",
        "print('padded token:', vocab['<PAD>'])"
      ],
      "metadata": {
        "colab": {
          "base_uri": "https://localhost:8080/"
        },
        "id": "EhR-6WDXSf6T",
        "outputId": "41fd1b55-ba67-403e-b732-2c7326b4d8c9"
      },
      "execution_count": 17,
      "outputs": [
        {
          "output_type": "stream",
          "name": "stdout",
          "text": [
            "vocab[\"the\"]: 9\n",
            "padded token: 35180\n"
          ]
        }
      ]
    },
    {
      "cell_type": "code",
      "source": [
        "print(tag_map)"
      ],
      "metadata": {
        "colab": {
          "base_uri": "https://localhost:8080/"
        },
        "id": "LsXCNoh4SqWS",
        "outputId": "e315b23a-7b41-4b7e-99d9-eb0be311733b"
      },
      "execution_count": 18,
      "outputs": [
        {
          "output_type": "stream",
          "name": "stdout",
          "text": [
            "{'O': 0, 'B-geo': 1, 'B-gpe': 2, 'B-per': 3, 'I-geo': 4, 'B-org': 5, 'I-org': 6, 'B-tim': 7, 'B-art': 8, 'I-art': 9, 'I-per': 10, 'I-gpe': 11, 'I-tim': 12, 'B-nat': 13, 'B-eve': 14, 'I-eve': 15, 'I-nat': 16}\n"
          ]
        }
      ]
    },
    {
      "cell_type": "code",
      "source": [
        "# Exploring information about the data\n",
        "print('The number of outputs is tag_map', len(tag_map))\n",
        "# The number of vocabulary tokens (including <PAD>)\n",
        "g_vocab_size = len(vocab)\n",
        "print(f\"Num of vocabulary words: {g_vocab_size}\")\n",
        "print('The training size is', t_size)\n",
        "print('The validation size is', v_size)\n",
        "print('An example of the first sentence is', t_sentences[0])\n",
        "print('An example of its corresponding label is', t_labels[0])"
      ],
      "metadata": {
        "colab": {
          "base_uri": "https://localhost:8080/"
        },
        "id": "8OWJ7umHTque",
        "outputId": "6f968955-13f8-4cb4-aead-0d1c1af1bb1c"
      },
      "execution_count": 19,
      "outputs": [
        {
          "output_type": "stream",
          "name": "stdout",
          "text": [
            "The number of outputs is tag_map 17\n",
            "Num of vocabulary words: 35181\n",
            "The training size is 33570\n",
            "The validation size is 7194\n",
            "An example of the first sentence is [0, 1, 2, 3, 4, 5, 6, 7, 8, 9, 10, 11, 12, 13, 14, 9, 15, 1, 16, 17, 18, 19, 20, 21]\n",
            "An example of its corresponding label is [0, 0, 0, 0, 0, 0, 1, 0, 0, 0, 0, 0, 1, 0, 0, 0, 0, 0, 2, 0, 0, 0, 0, 0]\n"
          ]
        }
      ]
    },
    {
      "cell_type": "markdown",
      "source": [
        "### Data generator"
      ],
      "metadata": {
        "id": "ZkiDFsL0Tvlb"
      }
    },
    {
      "cell_type": "code",
      "source": [
        "def data_generator(batch_size, x, y, pad, shuffle=False, verbose=False):\n",
        "    '''\n",
        "      Input: \n",
        "        batch_size - integer describing the batch size\n",
        "        x - list containing sentences where words are represented as integers\n",
        "        y - list containing tags associated with the sentences\n",
        "        shuffle - Shuffle the data order\n",
        "        pad - an integer representing a pad character\n",
        "        verbose - Print information during runtime\n",
        "      Output:\n",
        "        a tuple containing 2 elements:\n",
        "        X - np.ndarray of dim (batch_size, max_len) of padded sentences\n",
        "        Y - np.ndarray of dim (batch_size, max_len) of tags associated with the sentences in X\n",
        "    '''\n",
        "    \n",
        "    # count the number of lines in data_lines\n",
        "    num_lines = len(x)\n",
        "    \n",
        "    # create an array with the indexes of data_lines that can be shuffled\n",
        "    lines_index = [*range(num_lines)]\n",
        "    \n",
        "    # shuffle the indexes if shuffle is set to True\n",
        "    if shuffle:\n",
        "        rnd.shuffle(lines_index)\n",
        "    \n",
        "    index = 0 # tracks current location in x, y\n",
        "    while True:\n",
        "        buffer_x = [0] * batch_size # Temporal array to store the raw x data for this batch\n",
        "        buffer_y = [0] * batch_size # Temporal array to store the raw y data for this batch\n",
        "                \n",
        "        \n",
        "        # Copy into the temporal buffers the sentences in x[index] \n",
        "        # along with their corresponding labels y[index]\n",
        "        # Find maximum length of sentences in x[index] for this batch. \n",
        "        # Reset the index if we reach the end of the data set, and shuffle the indexes if needed.\n",
        "        max_len = 0 \n",
        "        for i in range(batch_size):\n",
        "             # if the index is greater than or equal to the number of lines in x\n",
        "            if index >= num_lines:\n",
        "                # then reset the index to 0\n",
        "                index = 0\n",
        "                # re-shuffle the indexes if shuffle is set to True\n",
        "                if shuffle:\n",
        "                    rnd.shuffle(lines_index)\n",
        "            \n",
        "            # The current position is obtained using `lines_index[index]`\n",
        "            # Store the x value at the current position into the buffer_x\n",
        "            buffer_x[i] = x[lines_index[index]]\n",
        "            \n",
        "            # Store the y value at the current position into the buffer_y\n",
        "            buffer_y[i] = y[lines_index[index]]\n",
        "            \n",
        "            lenx = len(x[lines_index[index]]) #length of current x[]\n",
        "            if lenx > max_len:\n",
        "                max_len = lenx #max_len tracks longest x[]\n",
        "            \n",
        "            # increment index by one\n",
        "            index += 1\n",
        "\n",
        "\n",
        "        # create X,Y, NumPy arrays of size (batch_size, max_len) 'full' of pad value\n",
        "        X = np.full((batch_size,max_len),pad)\n",
        "        Y = np.full((batch_size,max_len),pad)\n",
        "\n",
        "        # copy values from lists to NumPy arrays. Use the buffered values\n",
        "        for i in range(batch_size):\n",
        "            # get the example (sentence as a tensor)\n",
        "            # in `buffer_x` at the `i` index\n",
        "            x_i = buffer_x[i]\n",
        "            \n",
        "            # similarly, get the example's labels\n",
        "            # in `buffer_y` at the `i` index\n",
        "            y_i = buffer_y[i]\n",
        "            \n",
        "            # Walk through each word in x_i\n",
        "            for j in range(len(x_i)):\n",
        "                # store the word in x_i at position j into X\n",
        "                X[i, j] = x_i[j]\n",
        "                \n",
        "                # store the label in y_i at position j into Y\n",
        "                Y[i, j] = y_i[j]\n",
        "\n",
        "        if verbose: print(\"index=\", index)\n",
        "        yield((X,Y))"
      ],
      "metadata": {
        "id": "Y48kOH8gTtN1"
      },
      "execution_count": 20,
      "outputs": []
    },
    {
      "cell_type": "code",
      "source": [
        "batch_size = 5\n",
        "mini_sentences = t_sentences[0: 8]\n",
        "mini_labels = t_labels[0: 8]\n",
        "dg = data_generator(batch_size, mini_sentences, mini_labels, vocab[\"<PAD>\"], shuffle=False, verbose=True)\n",
        "X1, Y1 = next(dg)\n",
        "X2, Y2 = next(dg)\n",
        "print(Y1.shape, X1.shape, Y2.shape, X2.shape)\n",
        "print(X1[0][:], \"\\n\", Y1[0][:])"
      ],
      "metadata": {
        "colab": {
          "base_uri": "https://localhost:8080/"
        },
        "id": "UDm3m6syUBmS",
        "outputId": "c2af604e-7b42-4ba7-f05e-04867ae5b250"
      },
      "execution_count": 21,
      "outputs": [
        {
          "output_type": "stream",
          "name": "stdout",
          "text": [
            "index= 5\n",
            "index= 2\n",
            "(5, 30) (5, 30) (5, 30) (5, 30)\n",
            "[    0     1     2     3     4     5     6     7     8     9    10    11\n",
            "    12    13    14     9    15     1    16    17    18    19    20    21\n",
            " 35180 35180 35180 35180 35180 35180] \n",
            " [    0     0     0     0     0     0     1     0     0     0     0     0\n",
            "     1     0     0     0     0     0     2     0     0     0     0     0\n",
            " 35180 35180 35180 35180 35180 35180]\n"
          ]
        }
      ]
    },
    {
      "cell_type": "markdown",
      "source": [
        "### Building the model"
      ],
      "metadata": {
        "id": "3gXKepCiUF7x"
      }
    },
    {
      "cell_type": "code",
      "source": [
        "def NER(tags, vocab_size=35181, d_model=50):\n",
        "    '''\n",
        "      Input: \n",
        "        tag_map - dictionary that maps the tags to numbers\n",
        "        vocab_size - integer containing the size of the vocabulary\n",
        "        d_model - integer describing the embedding size\n",
        "      Output:\n",
        "        model - a trax serial model\n",
        "    '''\n",
        "    ### START CODE HERE (Replace instances of 'None' with your code) ###\n",
        "    model = tl.Serial( \n",
        "      tl.Embedding(vocab_size,d_model), # Embedding layer\n",
        "      tl.LSTM(d_model), # LSTM layer\n",
        "      tl.Dense(len(tags)), # Dense layer with len(tags) units\n",
        "      tl.LogSoftmax() # LogSoftmax layer\n",
        "      ) \n",
        "      ### END CODE HERE ###\n",
        "    return model"
      ],
      "metadata": {
        "id": "0xIGcxazUCwL"
      },
      "execution_count": 22,
      "outputs": []
    },
    {
      "cell_type": "code",
      "source": [
        "# initializing your model\n",
        "model = NER(tag_map)\n",
        "# display your model\n",
        "print(model)"
      ],
      "metadata": {
        "colab": {
          "base_uri": "https://localhost:8080/"
        },
        "id": "utreRxtNUITa",
        "outputId": "5467afb3-b6b2-4f92-8c25-de35b230c3e9"
      },
      "execution_count": 23,
      "outputs": [
        {
          "output_type": "stream",
          "name": "stdout",
          "text": [
            "Serial[\n",
            "  Embedding_35181_50\n",
            "  LSTM_50\n",
            "  Dense_17\n",
            "  LogSoftmax\n",
            "]\n"
          ]
        }
      ]
    },
    {
      "cell_type": "markdown",
      "source": [
        "### Train the Model"
      ],
      "metadata": {
        "id": "7G-cceLOUM0A"
      }
    },
    {
      "cell_type": "code",
      "source": [
        "def train_model(NER, train_generator, eval_generator, train_steps=1, output_dir='model'):\n",
        "    '''\n",
        "    Input: \n",
        "        NER - the model that builded\n",
        "        train_generator - The data generator for training examples\n",
        "        eval_generator - The data generator for validation examples,\n",
        "        train_steps - number of training steps\n",
        "        output_dir - folder to save your model\n",
        "    Output:\n",
        "        training_loop - a trax supervised training Loop\n",
        "    '''\n",
        "    train_task = training.TrainTask(\n",
        "      train_generator, # A train data generator\n",
        "      loss_layer = tl.CrossEntropyLoss(), # A cross-entropy loss function\n",
        "      optimizer = trax.optimizers.Adam(0.01) # The adam optimizer\n",
        "    ) \n",
        "\n",
        "    eval_task = training.EvalTask(\n",
        "      labeled_data = eval_generator,  # A labeled data generator\n",
        "      metrics = [tl.CrossEntropyLoss(), tl.Accuracy()], # Evaluate with cross-entropy loss and accuracy\n",
        "      n_eval_batches = 10, # Number of batches to use on each evaluation\n",
        "    )\n",
        "\n",
        "    training_loop = training.Loop( \n",
        "        NER, # A model to train\n",
        "        train_task, # A train task\n",
        "        eval_tasks = [eval_task], # The evaluation task\n",
        "        output_dir = output_dir # The output directory\n",
        "    )\n",
        "\n",
        "    # Train with train_steps\n",
        "    training_loop.run(n_steps = train_steps)\n",
        "\n",
        "    return training_loop# Setting random seed for reproducibility and testing\n",
        "rnd.seed(33)\n",
        "\n",
        "batch_size = 64\n",
        "\n",
        "# Create training data, mask pad id=35180 for training.\n",
        "train_generator = trax.data.inputs.add_loss_weights(\n",
        "    data_generator(batch_size, t_sentences, t_labels, vocab['<PAD>'], True),\n",
        "    id_to_mask=vocab['<PAD>'])\n",
        "\n",
        "# Create validation data, mask pad id=35180 for training.\n",
        "eval_generator = trax.data.inputs.add_loss_weights(\n",
        "    data_generator(batch_size, v_sentences, v_labels, vocab['<PAD>'], True),\n",
        "    id_to_mask=vocab['<PAD>'])"
      ],
      "metadata": {
        "id": "JjJ4LSK2UKQ3"
      },
      "execution_count": 25,
      "outputs": []
    },
    {
      "cell_type": "code",
      "source": [
        "train_steps = 1000            \n",
        "!rm -f 'model/model.pkl.gz'\n",
        "\n",
        "# Train the model\n",
        "training_loop = train_model(NER(tag_map), train_generator, eval_generator, train_steps)"
      ],
      "metadata": {
        "colab": {
          "base_uri": "https://localhost:8080/"
        },
        "id": "YtpybC-DUMUE",
        "outputId": "64f5ae8d-1f53-4f63-a120-84a72f638cff"
      },
      "execution_count": 26,
      "outputs": [
        {
          "output_type": "stream",
          "name": "stderr",
          "text": [
            "/usr/local/lib/python3.7/dist-packages/jax/_src/lib/xla_bridge.py:554: UserWarning: jax.host_count has been renamed to jax.process_count. This alias will eventually be removed; please update your code.\n",
            "  \"jax.host_count has been renamed to jax.process_count. This alias \"\n"
          ]
        },
        {
          "output_type": "stream",
          "name": "stdout",
          "text": [
            "\n",
            "Step      1: Total number of trainable weights: 1780117\n",
            "Step      1: Ran 1 train steps in 2.26 secs\n",
            "Step      1: train CrossEntropyLoss |  4.34827757\n",
            "Step      1: eval  CrossEntropyLoss |  3.22491376\n",
            "Step      1: eval          Accuracy |  0.00034874\n",
            "\n",
            "Step    100: Ran 99 train steps in 30.54 secs\n",
            "Step    100: train CrossEntropyLoss |  0.58395290\n",
            "Step    100: eval  CrossEntropyLoss |  0.25396212\n",
            "Step    100: eval          Accuracy |  0.93603930\n",
            "\n",
            "Step    200: Ran 100 train steps in 10.90 secs\n",
            "Step    200: train CrossEntropyLoss |  0.20026886\n",
            "Step    200: eval  CrossEntropyLoss |  0.17132684\n",
            "Step    200: eval          Accuracy |  0.95289432\n",
            "\n",
            "Step    300: Ran 100 train steps in 8.20 secs\n",
            "Step    300: train CrossEntropyLoss |  0.15945233\n",
            "Step    300: eval  CrossEntropyLoss |  0.15992047\n",
            "Step    300: eval          Accuracy |  0.95237217\n",
            "\n",
            "Step    400: Ran 100 train steps in 9.66 secs\n",
            "Step    400: train CrossEntropyLoss |  0.14773765\n",
            "Step    400: eval  CrossEntropyLoss |  0.14253110\n",
            "Step    400: eval          Accuracy |  0.95691662\n",
            "\n",
            "Step    500: Ran 100 train steps in 4.78 secs\n",
            "Step    500: train CrossEntropyLoss |  0.13481613\n",
            "Step    500: eval  CrossEntropyLoss |  0.12623609\n",
            "Step    500: eval          Accuracy |  0.96157978\n",
            "\n",
            "Step    600: Ran 100 train steps in 3.67 secs\n",
            "Step    600: train CrossEntropyLoss |  0.10521146\n",
            "Step    600: eval  CrossEntropyLoss |  0.13000625\n",
            "Step    600: eval          Accuracy |  0.96035113\n",
            "\n",
            "Step    700: Ran 100 train steps in 3.72 secs\n",
            "Step    700: train CrossEntropyLoss |  0.10103165\n",
            "Step    700: eval  CrossEntropyLoss |  0.12161655\n",
            "Step    700: eval          Accuracy |  0.96000350\n",
            "\n",
            "Step    800: Ran 100 train steps in 3.61 secs\n",
            "Step    800: train CrossEntropyLoss |  0.10243949\n",
            "Step    800: eval  CrossEntropyLoss |  0.14067552\n",
            "Step    800: eval          Accuracy |  0.95725565\n",
            "\n",
            "Step    900: Ran 100 train steps in 4.88 secs\n",
            "Step    900: train CrossEntropyLoss |  0.10392039\n",
            "Step    900: eval  CrossEntropyLoss |  0.12409887\n",
            "Step    900: eval          Accuracy |  0.96186973\n",
            "\n",
            "Step   1000: Ran 100 train steps in 4.93 secs\n",
            "Step   1000: train CrossEntropyLoss |  0.10047051\n",
            "Step   1000: eval  CrossEntropyLoss |  0.13098237\n",
            "Step   1000: eval          Accuracy |  0.96012667\n"
          ]
        }
      ]
    },
    {
      "cell_type": "markdown",
      "source": [],
      "metadata": {
        "id": "xAXndteHUhAf"
      }
    },
    {
      "cell_type": "code",
      "source": [
        "model = NER(tag_map)\n",
        "model.init(trax.shapes.ShapeDtype((1, 1), dtype=np.int32))\n",
        "\n",
        "model.init_from_file('/content/model/model.pkl.gz', weights_only=True)"
      ],
      "metadata": {
        "colab": {
          "base_uri": "https://localhost:8080/"
        },
        "id": "x5ZMasIoUffe",
        "outputId": "21199ff3-9b71-4270-acd2-a8bad18231bc"
      },
      "execution_count": 28,
      "outputs": [
        {
          "output_type": "execute_result",
          "data": {
            "text/plain": [
              "((array([[ 0.23737109,  0.16530305, -0.12092631, ..., -0.17302425,\n",
              "           0.20771587, -0.2759992 ],\n",
              "         [-0.05660972,  0.46432903, -0.19926837, ..., -0.7839723 ,\n",
              "          -0.27656928, -0.29926464],\n",
              "         [ 0.07507166,  0.32089967, -0.27227086, ...,  0.25471574,\n",
              "          -0.35393864,  0.30144492],\n",
              "         ...,\n",
              "         [-0.2222069 , -0.14175782, -0.2019768 , ..., -0.1793978 ,\n",
              "          -0.00187685, -0.12916297],\n",
              "         [ 0.14791286, -0.1349426 , -0.10408084, ..., -0.20280398,\n",
              "           0.08932697, -0.01866023],\n",
              "         [-0.07818594, -0.05178927,  0.18918037, ..., -0.01756875,\n",
              "           0.02863093, -0.16283822]], dtype=float32),\n",
              "  (((), ((), ())),\n",
              "   ((array([[-0.08082317,  0.65974814,  0.58455807, ..., -0.39573327,\n",
              "              0.3420832 ,  0.22471994],\n",
              "            [-0.41694227,  0.3445305 ,  0.3905039 , ..., -0.53623813,\n",
              "              0.78184205,  0.06185611],\n",
              "            [ 0.07107135, -0.95980173, -0.3086949 , ..., -0.34627774,\n",
              "             -0.76989675, -1.0099709 ],\n",
              "            ...,\n",
              "            [-0.23896062, -0.11824961,  0.228076  , ..., -0.30519494,\n",
              "             -0.02503308,  0.45918697],\n",
              "            [-0.19789472, -0.14367692,  0.04153216, ...,  0.16196945,\n",
              "              0.05478667, -0.15897618],\n",
              "            [ 0.06292826,  0.09096394,  0.15794058, ..., -0.2814845 ,\n",
              "              0.17258812, -0.24388307]], dtype=float32),\n",
              "     array([1.1497341 , 0.96113867, 1.4796774 , 1.627582  , 1.6606418 ,\n",
              "            0.91250587, 0.84200317, 1.2615005 , 0.94948035, 0.91031104,\n",
              "            1.2132901 , 1.3182392 , 1.2427611 , 1.1606485 , 1.0611783 ,\n",
              "            1.1721456 , 1.4038959 , 2.1198823 , 0.9493701 , 1.5152575 ,\n",
              "            1.5478224 , 1.1641151 , 1.3691139 , 1.1867019 , 1.220947  ,\n",
              "            1.2441369 , 1.2516937 , 1.1856525 , 1.2844764 , 1.280017  ,\n",
              "            1.5226934 , 1.1178969 , 1.2714665 , 1.2444762 , 0.95128644,\n",
              "            1.5647062 , 0.9739016 , 0.93556374, 1.4479249 , 0.9824292 ,\n",
              "            1.179208  , 1.2776619 , 2.4093049 , 0.91006947, 1.2877873 ,\n",
              "            1.1149455 , 0.86302066, 0.9435    , 1.2711442 , 1.4392598 ,\n",
              "            0.97683644, 0.8315829 , 1.3943892 , 1.4925505 , 1.400797  ,\n",
              "            0.8432121 , 0.8678162 , 0.58846563, 0.8419769 , 0.7534014 ,\n",
              "            1.171582  , 1.1954567 , 1.1705335 , 1.1597682 , 0.74491805,\n",
              "            1.1853397 , 1.3472962 , 1.7436684 , 0.8520737 , 1.3462508 ,\n",
              "            1.1695818 , 1.119134  , 1.2811892 , 0.83277434, 1.1450744 ,\n",
              "            1.0783178 , 1.2520967 , 1.1102549 , 1.1734952 , 0.83749413,\n",
              "            1.146597  , 0.67483276, 1.2640558 , 1.06218   , 0.8813863 ,\n",
              "            1.4482747 , 0.8864257 , 0.8648393 , 1.2835093 , 0.76310474,\n",
              "            0.77024376, 0.8921278 , 2.0047688 , 0.7807812 , 1.1941309 ,\n",
              "            0.8321381 , 0.86338943, 0.6811023 , 1.1748666 , 1.159461  ,\n",
              "            0.84023875, 0.9316464 , 1.0921828 , 1.0779057 , 0.9872968 ,\n",
              "            0.85965276, 0.9626057 , 0.97592664, 0.84807515, 0.8392948 ,\n",
              "            1.0762478 , 1.0860105 , 1.0827681 , 1.111673  , 0.9272847 ,\n",
              "            1.0357968 , 1.073846  , 0.9807459 , 0.88095826, 1.0667254 ,\n",
              "            1.0504547 , 1.0840627 , 1.0695133 , 0.8114141 , 1.0972904 ,\n",
              "            0.9067186 , 1.0704669 , 0.99012   , 1.059236  , 0.84857106,\n",
              "            0.76550573, 0.8039677 , 1.0742321 , 1.049177  , 0.95669377,\n",
              "            1.0889626 , 0.8719664 , 0.82083803, 1.0897833 , 0.79813075,\n",
              "            0.76373   , 0.9497613 , 0.8820631 , 0.9057545 , 1.0931103 ,\n",
              "            0.81926566, 0.9015438 , 0.92418456, 1.0957057 , 0.89167565,\n",
              "            1.1501806 , 0.96964836, 1.0316616 , 1.219005  , 0.81585824,\n",
              "            0.94739646, 0.89287376, 1.1233335 , 0.9841869 , 0.90120006,\n",
              "            1.109874  , 1.1021688 , 1.1500291 , 1.2471138 , 1.0643125 ,\n",
              "            1.084335  , 1.0223777 , 1.1948187 , 0.93151456, 1.0081443 ,\n",
              "            1.0785955 , 0.9846609 , 1.1792872 , 1.1355388 , 1.0496434 ,\n",
              "            1.1287493 , 1.1026441 , 0.7801068 , 0.9396791 , 1.2007353 ,\n",
              "            0.9854891 , 1.0427095 , 1.0278049 , 0.99340266, 0.9560526 ,\n",
              "            0.96134603, 0.95736164, 0.9119245 , 1.08942   , 0.9179663 ,\n",
              "            1.102637  , 1.1193829 , 1.2326944 , 0.89293194, 0.95594126,\n",
              "            1.068735  , 0.8759686 , 1.0548843 , 1.1211905 , 1.1889582 ],\n",
              "           dtype=float32)),),\n",
              "   ()),\n",
              "  (array([[ 1.04477406e-01,  1.23846263e-01,  4.22293961e-01,\n",
              "            1.55905530e-01, -6.74056947e-01,  2.69960493e-01,\n",
              "           -1.15605450e+00,  7.90999532e-01, -1.10612802e-01,\n",
              "           -1.67417042e-02, -1.00185668e+00, -8.72453302e-02,\n",
              "           -2.10985109e-01, -5.56486659e-02, -1.84255376e-01,\n",
              "           -3.85235637e-01,  9.26569942e-03],\n",
              "          [-3.83629650e-03,  4.50354308e-01, -1.84324868e-02,\n",
              "           -1.89798817e-01,  4.73755687e-01, -4.92569149e-01,\n",
              "           -8.07178020e-01,  4.72544506e-02, -5.55018902e-01,\n",
              "           -1.35059863e-01, -5.19239008e-02,  3.18217784e-01,\n",
              "           -3.45164955e-01, -1.40509561e-01, -5.46375394e-01,\n",
              "           -2.98367411e-01, -1.88822910e-01],\n",
              "          [ 2.23905802e-01, -4.87428248e-01,  2.59304106e-01,\n",
              "            5.55078745e-01, -3.87994468e-01, -3.92314792e-01,\n",
              "           -3.13861638e-01,  4.87352997e-01, -2.49063179e-01,\n",
              "           -4.37363744e-01,  2.77241796e-01,  2.79884078e-02,\n",
              "           -2.33464435e-01, -2.40982771e-01, -4.54036474e-01,\n",
              "           -2.62094170e-01,  8.84417444e-02],\n",
              "          [ 3.81956130e-01,  2.82537062e-02, -6.42189324e-01,\n",
              "            4.99306053e-01, -4.62899834e-01,  7.18571916e-02,\n",
              "           -2.03402996e-01, -4.52451050e-01, -1.35475444e-02,\n",
              "           -1.13343976e-01,  2.17703193e-01, -4.89084244e-01,\n",
              "            8.41646492e-02,  1.09111771e-01, -3.09955835e-01,\n",
              "            3.22041946e-04, -9.86025110e-02],\n",
              "          [-4.43852507e-02,  7.03004539e-01,  6.81132555e-01,\n",
              "            4.03140634e-01, -1.01321363e+00,  6.30775571e-01,\n",
              "           -4.40797985e-01,  2.51309097e-01, -1.02757744e-01,\n",
              "           -3.79698634e-01, -1.08649528e+00, -5.94671488e-01,\n",
              "           -2.35844895e-01,  1.15274943e-01,  3.31275791e-01,\n",
              "           -3.29706073e-01, -3.15986007e-01],\n",
              "          [-1.86773315e-01, -1.11954406e-01,  2.95882612e-01,\n",
              "           -2.79360265e-01, -6.29619122e-01,  7.92216420e-01,\n",
              "           -2.02398479e-01, -1.01457798e+00, -2.99943477e-01,\n",
              "            1.26248375e-01, -1.53616831e-01,  2.18093887e-01,\n",
              "           -6.34328783e-01, -3.38113189e-01,  9.94486362e-02,\n",
              "            7.78666586e-02, -3.73303711e-01],\n",
              "          [-5.40657520e-01,  2.98077375e-01,  9.27649796e-01,\n",
              "            5.15124857e-01, -1.39348373e-01,  5.46566606e-01,\n",
              "           -2.13663783e-02,  2.86329705e-02, -6.92922100e-02,\n",
              "            1.11082524e-01,  6.19675398e-01,  4.36359346e-01,\n",
              "            2.73751378e-01,  8.65956470e-02, -3.85508826e-03,\n",
              "           -1.95816346e-03,  1.94119111e-01],\n",
              "          [ 1.50715083e-01, -5.84328294e-01, -6.39579833e-01,\n",
              "           -2.84631699e-01, -4.75170135e-01, -4.12385285e-01,\n",
              "           -6.71474487e-02, -4.45941627e-01, -1.37785330e-01,\n",
              "           -2.26768441e-02, -5.10664642e-01, -2.61395037e-01,\n",
              "           -2.69128889e-01, -1.17767945e-01, -5.30420899e-01,\n",
              "           -2.36118823e-01,  1.31972939e-01],\n",
              "          [-1.83995113e-01,  5.12246668e-01, -5.46844125e-01,\n",
              "           -2.63469666e-01,  8.28002453e-01,  4.81007010e-01,\n",
              "            5.66975594e-01, -4.71413672e-01, -1.88760906e-01,\n",
              "            2.53476202e-01, -3.08192726e-02, -4.31492150e-01,\n",
              "           -5.68176806e-01, -3.93753558e-01, -2.69125700e-01,\n",
              "           -2.04571977e-01, -2.50031240e-02],\n",
              "          [-2.67367698e-02, -5.80776930e-01, -5.81404269e-01,\n",
              "           -1.29546440e+00,  2.61672795e-01, -7.12708771e-01,\n",
              "           -4.96754162e-02,  1.94754168e-01, -5.60748398e-01,\n",
              "           -3.02107096e-01, -2.63910294e-02,  2.15184882e-01,\n",
              "           -3.19302455e-02, -1.02047324e-01, -6.82532072e-01,\n",
              "           -2.01950207e-01, -1.15112504e-02],\n",
              "          [ 5.24947524e-01, -4.58401293e-02, -3.78024220e-01,\n",
              "           -4.08078551e-01, -6.26790822e-02, -2.64210284e-01,\n",
              "            2.27312446e-01, -1.18722074e-01, -3.08716893e-01,\n",
              "           -3.31885964e-01, -1.03128396e-01, -5.47129288e-02,\n",
              "           -2.47439295e-01, -3.91328186e-01, -4.67142344e-01,\n",
              "           -6.60638884e-02, -1.70267314e-01],\n",
              "          [ 2.24896625e-01, -7.99702704e-02, -3.85578871e-01,\n",
              "           -2.31012180e-01, -2.22779110e-01,  4.27189171e-01,\n",
              "           -5.12204394e-02,  1.64048925e-01,  6.90414011e-02,\n",
              "           -2.50149548e-01, -3.68830144e-01, -2.99673110e-01,\n",
              "            1.47980273e-01, -4.40869927e-01, -2.68707752e-01,\n",
              "           -5.47458589e-01, -4.34971899e-01],\n",
              "          [ 2.77474463e-01, -1.91965789e-01, -4.71806705e-01,\n",
              "           -3.29458296e-01,  1.02149136e-01, -1.61242299e-02,\n",
              "            1.28566027e-01, -2.72885531e-01, -1.94945499e-01,\n",
              "           -1.81389019e-01,  3.02301049e-01, -4.23979729e-01,\n",
              "           -1.23295682e-02, -4.01804090e-01,  4.79416475e-02,\n",
              "           -7.52194524e-02, -4.08427805e-01],\n",
              "          [-1.07985519e-01,  6.49401844e-01, -4.74389829e-02,\n",
              "            8.99589479e-01,  2.30315089e-01,  1.12496041e-01,\n",
              "            5.15872300e-01,  1.88004747e-01, -4.22166675e-01,\n",
              "           -4.32435274e-02,  5.07577837e-01, -1.21924020e-01,\n",
              "            3.01223904e-01,  2.62083905e-03, -4.93208170e-01,\n",
              "           -3.48156184e-01, -2.54325420e-01],\n",
              "          [ 6.84767514e-02, -7.80037045e-01,  4.33464676e-01,\n",
              "           -6.49638057e-01, -9.12202775e-01,  1.98581591e-01,\n",
              "            3.59932661e-01, -7.97739089e-01,  1.30806444e-02,\n",
              "           -1.62965700e-01, -5.20908535e-01, -2.62875229e-01,\n",
              "           -7.98257887e-01,  1.86861053e-01, -1.46095708e-01,\n",
              "           -3.37966308e-02, -1.35075346e-01],\n",
              "          [ 1.09545283e-01,  1.63688824e-01,  1.22311525e-01,\n",
              "           -5.07799745e-01, -8.43998194e-01,  8.87800381e-02,\n",
              "           -8.45400810e-01, -4.11316305e-01, -3.91464174e-01,\n",
              "           -8.28916356e-02, -5.54279864e-01, -8.92862529e-02,\n",
              "            1.05844013e-01,  5.12844585e-02, -2.43312910e-01,\n",
              "           -5.13415694e-01, -4.55888152e-01],\n",
              "          [ 4.32233095e-01,  2.26562932e-01, -9.44390520e-02,\n",
              "            2.60880470e-01, -3.43760163e-01,  9.73916147e-03,\n",
              "            3.89210850e-01, -5.20865619e-01, -2.22116802e-02,\n",
              "            1.21383354e-01, -5.42412758e-01,  5.18391430e-02,\n",
              "           -4.25617516e-01, -1.86026823e-02, -5.36009848e-01,\n",
              "           -1.32731676e-01, -3.60161439e-02],\n",
              "          [ 1.40274853e-01,  5.23999631e-01,  4.60218452e-02,\n",
              "           -2.65365571e-01, -8.53264868e-01,  4.76653408e-03,\n",
              "           -4.75001693e-01, -6.00358248e-01, -5.02666116e-01,\n",
              "           -4.43580359e-01,  1.54362142e-01,  4.77145463e-02,\n",
              "           -3.00266832e-01, -3.22045922e-01, -6.18156493e-01,\n",
              "           -3.03816378e-01, -1.25790492e-01],\n",
              "          [-1.63865805e-01,  5.46715781e-02,  7.94228986e-02,\n",
              "            2.77862310e-01, -3.33942115e-01,  3.52093220e-01,\n",
              "           -1.03781855e+00, -8.78118072e-03,  9.64682475e-02,\n",
              "           -4.64019030e-01, -1.60951450e-01, -2.41757736e-01,\n",
              "            5.49190760e-01,  1.67715520e-01, -2.13369742e-01,\n",
              "            1.22762181e-01, -2.32717827e-01],\n",
              "          [ 2.30055764e-01,  4.23964977e-01,  4.91111070e-01,\n",
              "           -2.79408157e-01, -5.80160081e-01,  2.32478812e-01,\n",
              "           -2.90752709e-01,  1.33359745e-01,  1.62814185e-01,\n",
              "           -1.68309271e-01, -8.74005318e-01,  1.29152695e-02,\n",
              "           -6.34119272e-01, -2.66025811e-01, -3.09787020e-02,\n",
              "           -1.09807514e-01, -4.82120574e-01],\n",
              "          [ 2.48987287e-01,  4.00157750e-01, -1.65864989e-01,\n",
              "           -4.23113078e-01, -3.69049370e-01,  6.14401639e-01,\n",
              "           -1.78283364e-01, -1.27747906e-02,  6.58107409e-03,\n",
              "            9.72893462e-02,  2.29695514e-02,  2.38225721e-02,\n",
              "           -2.90422320e-01, -1.89480782e-01, -1.41764358e-01,\n",
              "           -2.15680376e-01,  7.32133538e-02],\n",
              "          [ 4.36871797e-01, -1.40157536e-01, -2.43981794e-01,\n",
              "           -3.18688840e-01, -3.04285526e-01,  2.16595661e-02,\n",
              "           -2.81844348e-01, -1.17211670e-01, -3.67709816e-01,\n",
              "           -7.07900152e-02, -3.51803750e-01,  3.12253367e-02,\n",
              "            1.42640635e-01, -1.52915835e-01, -2.30493844e-01,\n",
              "           -3.96326363e-01, -4.83441502e-01],\n",
              "          [ 4.38949347e-01, -1.51170880e-01,  1.48187652e-01,\n",
              "           -3.09117049e-01, -4.28311467e-01, -2.05855846e-01,\n",
              "            1.27871215e-01, -4.16659951e-01,  1.27122149e-01,\n",
              "            9.69242677e-02,  2.70838946e-01, -4.02357161e-01,\n",
              "           -4.08676229e-02, -2.18660429e-01,  1.01519883e-01,\n",
              "            1.14061028e-01, -3.07664305e-01],\n",
              "          [-1.66144073e-02,  2.69250274e-01,  7.32306898e-01,\n",
              "            3.36597770e-01, -7.60004282e-01,  2.58016169e-01,\n",
              "           -9.44233239e-01,  5.46421185e-02, -2.79520035e-01,\n",
              "           -4.49772358e-01, -1.08644116e+00, -3.26455474e-01,\n",
              "           -5.38833320e-01, -4.38897222e-01,  1.59705713e-01,\n",
              "           -6.40525296e-02, -2.92317301e-01],\n",
              "          [ 3.79561156e-01, -4.52484995e-01,  2.12757945e-01,\n",
              "           -2.07117060e-03, -2.01633140e-01, -3.14569324e-01,\n",
              "            2.09499121e-01,  4.49923187e-01, -4.02828068e-01,\n",
              "            2.38585100e-02,  1.83952242e-01,  1.17574103e-01,\n",
              "           -4.11408246e-01, -4.30745184e-01, -5.44898629e-01,\n",
              "           -4.16019976e-01, -1.76898062e-01],\n",
              "          [-3.60836685e-02,  1.57725692e-01,  3.78493667e-01,\n",
              "            4.86480623e-01,  2.30640844e-01,  7.01087534e-01,\n",
              "            3.05093229e-01, -6.08313024e-01, -4.81443992e-03,\n",
              "            2.33474046e-01,  3.72467071e-01,  1.02318460e-02,\n",
              "           -5.76854110e-01,  3.01560145e-02, -3.12936336e-01,\n",
              "           -2.34316587e-01, -4.64293361e-01],\n",
              "          [ 4.70151216e-01,  6.78866878e-02,  1.53235450e-01,\n",
              "            4.17578787e-01, -3.44121039e-01, -2.37018779e-01,\n",
              "            2.43134946e-01,  1.92460239e-01,  8.89905468e-02,\n",
              "           -2.59247750e-01, -5.49949229e-01, -1.45450592e-01,\n",
              "           -2.37132460e-01, -5.54940514e-02,  4.55187522e-02,\n",
              "           -2.58680612e-01,  3.47185768e-02],\n",
              "          [-4.87435088e-02, -1.82069376e-01,  3.62080872e-01,\n",
              "           -8.11944783e-01,  6.91490993e-02, -8.20518658e-02,\n",
              "           -2.15352699e-01,  3.32900137e-01, -5.31139612e-01,\n",
              "           -2.93313056e-01,  1.12091802e-01, -3.78374517e-01,\n",
              "            5.02717376e-01, -2.94062406e-01, -4.77298021e-01,\n",
              "            3.99518609e-02, -4.82030474e-02],\n",
              "          [ 1.14621013e-01, -8.71493518e-01, -4.39980291e-02,\n",
              "           -2.17619598e-01,  5.51399708e-01,  6.97487295e-02,\n",
              "            2.81899244e-01,  1.12645529e-01,  8.15653503e-02,\n",
              "           -3.34435850e-01, -1.40595809e-01,  6.56104982e-02,\n",
              "           -5.26969314e-01,  9.85526145e-02, -3.42032999e-01,\n",
              "            1.07665449e-01, -2.32188672e-01],\n",
              "          [ 2.97638595e-01,  2.56232452e-02, -1.62284747e-01,\n",
              "           -1.26697433e+00, -6.58825338e-01, -6.33982182e-01,\n",
              "           -1.04090559e+00,  1.14970505e-01, -6.02034144e-02,\n",
              "           -6.49923384e-01, -1.25864863e+00, -3.67197037e-01,\n",
              "            4.50016826e-01,  1.73080340e-01,  2.43529931e-01,\n",
              "           -5.37197173e-01, -2.71740466e-01],\n",
              "          [-1.40900940e-01,  1.58384264e-01, -2.08986595e-01,\n",
              "            8.94100189e-01, -3.27691473e-02,  4.65132803e-01,\n",
              "           -1.64149359e-01,  3.92218858e-01,  3.63412112e-01,\n",
              "           -1.12765752e-01, -1.31471917e-01, -3.98838341e-01,\n",
              "           -2.33797178e-01, -2.81627417e-01,  1.35339320e-01,\n",
              "           -2.02572912e-01, -5.42988956e-01],\n",
              "          [ 1.12036578e-02, -7.57050216e-01, -7.38016784e-01,\n",
              "            2.22333595e-01, -6.86837673e-01, -5.46281099e-01,\n",
              "            2.52520651e-01, -9.69048679e-01, -6.51321054e-01,\n",
              "            1.64437145e-01, -4.13817614e-01,  2.41692409e-01,\n",
              "            5.50450742e-01, -1.76945090e-01, -3.54226306e-02,\n",
              "           -6.59418479e-02, -1.33795634e-01],\n",
              "          [ 4.05934364e-01, -3.72781940e-02, -3.25057685e-01,\n",
              "           -6.64351555e-03, -3.58825952e-01, -3.52702022e-01,\n",
              "           -3.06342840e-01, -4.24582362e-01, -3.49586964e-01,\n",
              "           -1.41021580e-01,  1.33002818e-01, -4.47675318e-01,\n",
              "           -1.58721507e-01, -2.15100273e-01, -1.78886712e-01,\n",
              "           -3.05428114e-02, -1.35502413e-01],\n",
              "          [ 2.73942351e-01, -4.58038270e-01, -5.31666517e-01,\n",
              "           -5.33929110e-01, -1.53191298e-01, -1.15405120e-01,\n",
              "           -1.55457735e-01,  1.29938394e-01, -1.02115162e-01,\n",
              "            4.64601927e-02, -4.32190359e-01, -5.20707369e-01,\n",
              "            1.40506685e-01, -1.60828829e-01, -1.18920028e-01,\n",
              "            9.66454744e-02, -2.02913567e-01],\n",
              "          [-2.12097093e-01, -2.50793934e-01, -3.36395614e-02,\n",
              "            9.66689169e-01, -2.87101477e-01,  5.96390486e-01,\n",
              "           -6.86945245e-02, -3.01026642e-01, -1.58440229e-02,\n",
              "           -3.01520433e-02,  9.25666630e-01, -3.51054430e-01,\n",
              "           -4.79019970e-01, -1.41571552e-01, -2.07770079e-01,\n",
              "           -4.40552473e-01, -2.73971390e-02],\n",
              "          [ 4.14694250e-01,  1.47464452e-02, -2.75649875e-01,\n",
              "           -7.27963001e-02, -5.88427261e-02, -4.00526404e-01,\n",
              "           -7.80058205e-02,  2.08137050e-01, -5.28495908e-01,\n",
              "           -1.74445957e-01, -2.28364035e-01,  4.30735983e-02,\n",
              "            1.18880514e-02,  9.51466337e-02, -1.02703333e-01,\n",
              "            3.89003530e-02, -2.29502365e-01],\n",
              "          [-4.90837358e-02, -3.56816113e-01, -2.87492126e-01,\n",
              "            1.08006442e+00, -3.86308938e-01, -3.49317700e-01,\n",
              "           -4.62094694e-01, -1.32611716e+00, -5.84751135e-03,\n",
              "            1.42878741e-01,  4.80712056e-01, -1.61386609e-01,\n",
              "            7.24378303e-02,  3.68962660e-02, -3.44082415e-01,\n",
              "           -4.44244146e-01, -1.36268690e-01],\n",
              "          [-1.60971135e-01, -6.50674254e-02,  6.22336507e-01,\n",
              "           -4.07802105e-01,  7.89370120e-01, -6.33469284e-01,\n",
              "            3.54620963e-01, -1.43473434e+00, -1.59082875e-01,\n",
              "            1.15991473e-01,  3.30714315e-01,  2.47148290e-01,\n",
              "           -1.16217755e-01, -1.45660311e-01, -3.08280796e-01,\n",
              "           -1.82550289e-02, -3.07073981e-01],\n",
              "          [ 3.18645328e-01, -3.61326635e-01,  1.67461351e-01,\n",
              "           -3.26602995e-01, -2.05560341e-01,  2.69198239e-01,\n",
              "           -3.81977528e-01,  1.25193521e-01, -4.65237126e-02,\n",
              "           -1.31519794e-01,  1.05021097e-01, -2.87719488e-01,\n",
              "           -1.80515274e-01, -3.52076292e-01, -2.00234652e-01,\n",
              "           -1.92068323e-01,  1.76066868e-02],\n",
              "          [-9.51053798e-02, -7.88037300e-01, -4.97106612e-01,\n",
              "            4.70535249e-01, -7.09792793e-01, -8.58684838e-01,\n",
              "           -1.97705850e-01,  2.88853735e-01, -9.10734236e-02,\n",
              "            1.79761335e-01, -1.03006375e+00, -6.12877607e-02,\n",
              "            4.90299687e-02,  1.34452209e-01, -4.13295686e-01,\n",
              "            8.12799856e-02,  1.64345071e-01],\n",
              "          [ 5.86987473e-02,  5.80713451e-01, -4.02376205e-01,\n",
              "           -2.98842877e-01,  5.89998424e-01,  2.29401693e-01,\n",
              "           -1.48838088e-01,  2.53707498e-01, -1.23476185e-01,\n",
              "           -5.68234146e-01, -1.05405986e+00, -4.18838531e-01,\n",
              "           -4.73820657e-01,  4.10930105e-02, -3.96740139e-01,\n",
              "           -2.33535483e-01, -2.86026627e-01],\n",
              "          [ 1.52869254e-01, -5.25680125e-01, -6.63400650e-01,\n",
              "            8.24548423e-01, -7.63237298e-01, -3.01122908e-02,\n",
              "           -1.24904446e-01, -4.71885093e-02, -1.20856352e-01,\n",
              "           -2.25706734e-02,  8.38904440e-01, -1.05851352e-01,\n",
              "           -2.80177891e-01,  9.46862772e-02, -4.99610931e-01,\n",
              "           -4.64294851e-01,  2.62142450e-01],\n",
              "          [ 1.09879665e-01,  3.30175191e-01, -5.12807071e-01,\n",
              "            7.87580371e-01, -7.73132920e-01,  1.26802593e-01,\n",
              "           -3.54278344e-03, -1.79261088e-01, -4.85477298e-02,\n",
              "           -2.92869747e-01, -6.77574992e-01, -4.33762521e-01,\n",
              "           -2.49341160e-01, -3.40445399e-01,  1.20033734e-01,\n",
              "            8.77676606e-02, -4.16871518e-01],\n",
              "          [-1.69278860e-01,  3.96807700e-01,  7.73386180e-01,\n",
              "            1.02898693e+00, -3.34295295e-02,  1.90988928e-01,\n",
              "            1.22247182e-01, -6.02471530e-01,  2.25733861e-01,\n",
              "           -2.65656918e-01, -4.60452028e-02, -2.25555047e-01,\n",
              "           -9.99349236e-01,  1.94468975e-01,  1.31774724e-01,\n",
              "            1.44518688e-01,  1.56077864e-02],\n",
              "          [ 4.11260694e-01, -4.35072631e-01,  3.67405899e-02,\n",
              "           -2.94878572e-01, -3.33608806e-01, -3.37992430e-01,\n",
              "           -3.61812592e-01, -3.06348234e-01, -2.43417263e-01,\n",
              "            8.83175805e-02, -8.63868557e-03,  1.80941001e-02,\n",
              "           -3.50188106e-01, -1.55559525e-01, -3.58087093e-01,\n",
              "            7.04136714e-02,  2.67177261e-02],\n",
              "          [-3.32098976e-02, -7.09942997e-01, -1.00968695e+00,\n",
              "           -4.48973328e-01, -4.99215513e-01,  5.00503123e-01,\n",
              "            3.07910830e-01,  5.96688807e-01,  1.51691148e-02,\n",
              "            8.22501853e-02, -8.19846332e-01, -3.93801928e-01,\n",
              "            3.54493260e-01, -3.55387717e-01,  2.85519779e-01,\n",
              "           -2.33497903e-01, -5.15669510e-02],\n",
              "          [-2.94638634e-01,  3.02282989e-01,  7.45185316e-02,\n",
              "            6.31831527e-01,  2.95055330e-01,  3.44039768e-01,\n",
              "           -2.09528223e-01,  2.51766831e-01,  1.31580770e-01,\n",
              "           -4.80988212e-02, -1.71379030e-01,  4.48582843e-02,\n",
              "           -3.69811594e-01,  4.42358069e-02,  3.73079985e-01,\n",
              "            2.40999348e-02, -8.07294771e-02],\n",
              "          [ 1.27918765e-01, -4.97260839e-01, -5.19120038e-01,\n",
              "           -3.45388919e-01, -7.35183239e-01, -3.06892395e-01,\n",
              "            2.16920465e-01, -4.48621541e-01, -9.36561003e-02,\n",
              "           -3.26493710e-01,  6.03090405e-01, -1.63838759e-01,\n",
              "           -7.06637681e-01,  1.52044505e-01, -1.78238705e-01,\n",
              "            8.87209401e-02, -2.44155660e-01],\n",
              "          [ 4.50343549e-01, -5.09432554e-01, -4.41330254e-01,\n",
              "            9.61670429e-02,  2.57121354e-01,  8.38863198e-03,\n",
              "            8.94140860e-04, -5.55173218e-01, -4.08353299e-01,\n",
              "           -4.49064560e-02,  8.76362622e-02, -4.26799357e-02,\n",
              "           -1.22002982e-01,  1.02765605e-01, -4.45324570e-01,\n",
              "           -4.28939372e-01, -2.62393385e-01],\n",
              "          [ 2.44151741e-01, -4.14245009e-01, -8.82150233e-01,\n",
              "            2.64087737e-01, -6.59257919e-02,  3.28579038e-01,\n",
              "           -7.51790881e-01,  6.25110686e-01,  1.34948000e-01,\n",
              "            3.12166903e-02, -1.14110970e+00, -2.59859830e-01,\n",
              "           -9.26071167e-01, -1.35811627e-01, -3.15035105e-01,\n",
              "           -2.72096187e-01, -4.82948452e-01]], dtype=float32),\n",
              "   array([ 0.18752767, -0.08826902, -0.05499249,  0.13915314, -0.3461744 ,\n",
              "           0.02358438, -0.17671174, -0.17599668, -0.15114295, -0.12557204,\n",
              "          -0.33794582, -0.15710454, -0.23363167, -0.14577451, -0.10548886,\n",
              "          -0.1702137 , -0.23119584], dtype=float32)),\n",
              "  ()),\n",
              " ((), (((), ((), ())), ((), ()), ()), (), ()))"
            ]
          },
          "metadata": {},
          "execution_count": 28
        }
      ]
    },
    {
      "cell_type": "markdown",
      "source": [
        "### Compute Accuracy"
      ],
      "metadata": {
        "id": "i-gnRYE3VKNX"
      }
    },
    {
      "cell_type": "code",
      "source": [
        "# create the evaluation inputs\n",
        "x, y = next(data_generator(len(test_sentences), test_sentences, test_labels, vocab['<PAD>']))\n",
        "print(\"input shapes\", x.shape, y.shape)"
      ],
      "metadata": {
        "colab": {
          "base_uri": "https://localhost:8080/"
        },
        "id": "sQA5fcyAVg-_",
        "outputId": "08433d34-f7b6-4fa0-da05-60c5bcb4dff1"
      },
      "execution_count": 31,
      "outputs": [
        {
          "output_type": "stream",
          "name": "stdout",
          "text": [
            "input shapes (7194, 70) (7194, 70)\n"
          ]
        }
      ]
    },
    {
      "cell_type": "code",
      "source": [
        "# sample prediction\n",
        "tmp_pred = model(x)\n",
        "print(type(tmp_pred))\n",
        "print(f\"tmp_pred has shape: {tmp_pred.shape}\")"
      ],
      "metadata": {
        "colab": {
          "base_uri": "https://localhost:8080/"
        },
        "id": "alKfAd3AVjou",
        "outputId": "f98ac786-2395-4fbe-f80f-53b610061ed7"
      },
      "execution_count": 32,
      "outputs": [
        {
          "output_type": "stream",
          "name": "stdout",
          "text": [
            "<class 'jaxlib.xla_extension.DeviceArray'>\n",
            "tmp_pred has shape: (7194, 70, 17)\n"
          ]
        }
      ]
    },
    {
      "cell_type": "code",
      "source": [
        "def evaluate_prediction(pred, labels, pad):\n",
        "    \"\"\"\n",
        "    Inputs:\n",
        "        pred: prediction array with shape \n",
        "            (num examples, max sentence length in batch, num of classes)\n",
        "        labels: array of size (batch_size, seq_len)\n",
        "        pad: integer representing pad character\n",
        "    Outputs:\n",
        "        accuracy: float\n",
        "    \"\"\"\n",
        "\n",
        "## step 1 ##\n",
        "    outputs = np.argmax(pred,axis=2)\n",
        "    print(\"outputs shape:\", outputs.shape)\n",
        "\n",
        "## step 2 ##\n",
        "    mask = labels!=pad\n",
        "    print(\"mask shape:\", mask.shape, \"mask[0][20:30]:\", mask[0][20:30])\n",
        "## step 3 ##\n",
        "    accuracy = np.sum(outputs==labels)/float(np.sum(mask))\n",
        "    return accuracy"
      ],
      "metadata": {
        "id": "nlCQEETGU85I"
      },
      "execution_count": 33,
      "outputs": []
    },
    {
      "cell_type": "code",
      "source": [
        "accuracy = evaluate_prediction(model(x), y, vocab['<PAD>'])\n",
        "print(\"accuracy: \", accuracy)"
      ],
      "metadata": {
        "colab": {
          "base_uri": "https://localhost:8080/"
        },
        "id": "D9XTVd_rVb3o",
        "outputId": "7c8c85f2-71c5-43a7-d93b-9880b1c9d266"
      },
      "execution_count": 34,
      "outputs": [
        {
          "output_type": "stream",
          "name": "stdout",
          "text": [
            "outputs shape: (7194, 70)\n",
            "mask shape: (7194, 70) mask[0][20:30]: [ True  True  True False False False False False False False]\n",
            "accuracy:  0.9588374\n"
          ]
        }
      ]
    },
    {
      "cell_type": "code",
      "source": [
        "# This is the function you will be using to test your own sentence.\n",
        "def predict(sentence, model, vocab, tag_map):\n",
        "    s = [vocab[token] if token in vocab else vocab['UNK'] for token in sentence.split(' ')]\n",
        "    batch_data = np.ones((1, len(s)))\n",
        "    batch_data[0][:] = s\n",
        "    sentence = np.array(batch_data).astype(int)\n",
        "    output = model(sentence)\n",
        "    outputs = np.argmax(output, axis=2)\n",
        "    labels = list(tag_map.keys())\n",
        "    pred = []\n",
        "    for i in range(len(outputs[0])):\n",
        "        idx = outputs[0][i] \n",
        "        pred_label = labels[idx]\n",
        "        pred.append(pred_label)\n",
        "    return pred"
      ],
      "metadata": {
        "id": "Tzg9css2Vdai"
      },
      "execution_count": 35,
      "outputs": []
    },
    {
      "cell_type": "code",
      "source": [
        "#sentence = \"Many French citizens are goin to visit Morocco for summer\"\n",
        "#sentence = \"Sharon Floyd flew to Miami last Friday\"\n",
        "\n",
        "# New york times news:\n",
        "sentence = \"Peter Navarro, the White House director of trade and manufacturing policy of U.S, said in an interview on Sunday morning that the White House was working to prepare for the possibility of a second wave of the coronavirus in the fall, though he said it wouldn’t necessarily come\"\n",
        "s = [vocab[token] if token in vocab else vocab['UNK'] for token in sentence.split(' ')]\n",
        "predictions = predict(sentence, model, vocab, tag_map)\n",
        "for x,y in zip(sentence.split(' '), predictions):\n",
        "    if y != 'O':\n",
        "        print(x,y)"
      ],
      "metadata": {
        "colab": {
          "base_uri": "https://localhost:8080/"
        },
        "id": "sKqUsJ7WVrh2",
        "outputId": "918b82aa-c290-48bb-d57a-e35160e19c3e"
      },
      "execution_count": 36,
      "outputs": [
        {
          "output_type": "stream",
          "name": "stdout",
          "text": [
            "Peter B-per\n",
            "Navarro, I-per\n",
            "White B-org\n",
            "House I-org\n",
            "Sunday B-tim\n",
            "morning I-tim\n",
            "White B-org\n",
            "House I-org\n",
            "coronavirus B-org\n",
            "fall, B-org\n"
          ]
        }
      ]
    },
    {
      "cell_type": "code",
      "source": [],
      "metadata": {
        "id": "B7CV6v6vVvdJ"
      },
      "execution_count": null,
      "outputs": []
    }
  ]
}